{
 "cells": [
  {
   "cell_type": "markdown",
   "metadata": {
    "colab_type": "text",
    "id": "view-in-github"
   },
   "source": [
    "<a href=\"https://colab.research.google.com/github/carlosmr12/mlwk2023/blob/master/mlapp.ipynb\" target=\"_parent\"><img src=\"https://colab.research.google.com/assets/colab-badge.svg\" alt=\"Open In Colab\"/></a>"
   ]
  },
  {
   "cell_type": "code",
   "execution_count": 1,
   "metadata": {
    "colab": {
     "base_uri": "https://localhost:8080/"
    },
    "id": "MmpcOpqDZjWF",
    "outputId": "6c5ce055-3f3c-448a-c0e7-e4c39d574163"
   },
   "outputs": [
    {
     "name": "stdout",
     "output_type": "stream",
     "text": [
      "Requirement already satisfied: joblib==1.1.0 in /home/carlos/miniconda3/envs/mlclassapp/lib/python3.8/site-packages (from -r requirements.txt (line 1)) (1.1.0)\n",
      "Requirement already satisfied: matplotlib==3.5.2 in /home/carlos/miniconda3/envs/mlclassapp/lib/python3.8/site-packages (from -r requirements.txt (line 2)) (3.5.2)\n",
      "Requirement already satisfied: notebook==6.4.12 in /home/carlos/miniconda3/envs/mlclassapp/lib/python3.8/site-packages (from -r requirements.txt (line 3)) (6.4.12)\n",
      "Collecting numpy==1.23.1\n",
      "  Using cached numpy-1.23.1-cp38-cp38-manylinux_2_17_x86_64.manylinux2014_x86_64.whl (17.1 MB)\n",
      "Requirement already satisfied: pandas==1.4.3 in /home/carlos/miniconda3/envs/mlclassapp/lib/python3.8/site-packages (from -r requirements.txt (line 5)) (1.4.3)\n",
      "Requirement already satisfied: requests==2.28.1 in /home/carlos/miniconda3/envs/mlclassapp/lib/python3.8/site-packages (from -r requirements.txt (line 6)) (2.28.1)\n",
      "Requirement already satisfied: scikit-learn==1.1.1 in /home/carlos/miniconda3/envs/mlclassapp/lib/python3.8/site-packages (from -r requirements.txt (line 7)) (1.1.1)\n",
      "Requirement already satisfied: scipy==1.8.1 in /home/carlos/miniconda3/envs/mlclassapp/lib/python3.8/site-packages (from -r requirements.txt (line 8)) (1.8.1)\n",
      "Requirement already satisfied: seaborn==0.11.2 in /home/carlos/miniconda3/envs/mlclassapp/lib/python3.8/site-packages (from -r requirements.txt (line 9)) (0.11.2)\n",
      "Requirement already satisfied: rdkit==2022.3.4 in /home/carlos/miniconda3/envs/mlclassapp/lib/python3.8/site-packages (from -r requirements.txt (line 10)) (2022.3.4)\n",
      "Requirement already satisfied: plotly==5.9.0 in /home/carlos/miniconda3/envs/mlclassapp/lib/python3.8/site-packages (from -r requirements.txt (line 11)) (5.9.0)\n",
      "Requirement already satisfied: statsmodels==0.13.2 in /home/carlos/miniconda3/envs/mlclassapp/lib/python3.8/site-packages (from -r requirements.txt (line 12)) (0.13.2)\n",
      "Requirement already satisfied: umap-learn==0.5.3 in /home/carlos/miniconda3/envs/mlclassapp/lib/python3.8/site-packages (from -r requirements.txt (line 13)) (0.5.3)\n",
      "Requirement already satisfied: tabulate==0.8.10 in /home/carlos/miniconda3/envs/mlclassapp/lib/python3.8/site-packages (from -r requirements.txt (line 14)) (0.8.10)\n",
      "Collecting ipywidgets\n",
      "  Downloading ipywidgets-8.0.6-py3-none-any.whl (138 kB)\n",
      "\u001b[2K     \u001b[38;2;114;156;31m━━━━━━━━━━━━━━━━━━━━━━━━━━━━━━━━━━━━━━━\u001b[0m \u001b[32m138.3/138.3 kB\u001b[0m \u001b[31m2.0 MB/s\u001b[0m eta \u001b[36m0:00:00\u001b[0m[31m1.1 MB/s\u001b[0m eta \u001b[36m0:00:01\u001b[0m\n",
      "\u001b[?25hRequirement already satisfied: cycler>=0.10 in /home/carlos/miniconda3/envs/mlclassapp/lib/python3.8/site-packages (from matplotlib==3.5.2->-r requirements.txt (line 2)) (0.11.0)\n",
      "Requirement already satisfied: packaging>=20.0 in /home/carlos/miniconda3/envs/mlclassapp/lib/python3.8/site-packages (from matplotlib==3.5.2->-r requirements.txt (line 2)) (21.3)\n",
      "Requirement already satisfied: fonttools>=4.22.0 in /home/carlos/miniconda3/envs/mlclassapp/lib/python3.8/site-packages (from matplotlib==3.5.2->-r requirements.txt (line 2)) (4.34.4)\n",
      "Requirement already satisfied: pillow>=6.2.0 in /home/carlos/miniconda3/envs/mlclassapp/lib/python3.8/site-packages (from matplotlib==3.5.2->-r requirements.txt (line 2)) (9.2.0)\n",
      "Requirement already satisfied: pyparsing>=2.2.1 in /home/carlos/miniconda3/envs/mlclassapp/lib/python3.8/site-packages (from matplotlib==3.5.2->-r requirements.txt (line 2)) (3.0.9)\n",
      "Requirement already satisfied: python-dateutil>=2.7 in /home/carlos/miniconda3/envs/mlclassapp/lib/python3.8/site-packages (from matplotlib==3.5.2->-r requirements.txt (line 2)) (2.8.2)\n",
      "Requirement already satisfied: kiwisolver>=1.0.1 in /home/carlos/miniconda3/envs/mlclassapp/lib/python3.8/site-packages (from matplotlib==3.5.2->-r requirements.txt (line 2)) (1.4.4)\n",
      "Requirement already satisfied: pyzmq>=17 in /home/carlos/miniconda3/envs/mlclassapp/lib/python3.8/site-packages (from notebook==6.4.12->-r requirements.txt (line 3)) (23.2.0)\n",
      "Requirement already satisfied: jupyter-client>=5.3.4 in /home/carlos/miniconda3/envs/mlclassapp/lib/python3.8/site-packages (from notebook==6.4.12->-r requirements.txt (line 3)) (7.3.4)\n",
      "Requirement already satisfied: nbformat in /home/carlos/miniconda3/envs/mlclassapp/lib/python3.8/site-packages (from notebook==6.4.12->-r requirements.txt (line 3)) (5.4.0)\n",
      "Requirement already satisfied: traitlets>=4.2.1 in /home/carlos/miniconda3/envs/mlclassapp/lib/python3.8/site-packages (from notebook==6.4.12->-r requirements.txt (line 3)) (5.3.0)\n",
      "Requirement already satisfied: jupyter-core>=4.6.1 in /home/carlos/miniconda3/envs/mlclassapp/lib/python3.8/site-packages (from notebook==6.4.12->-r requirements.txt (line 3)) (4.11.1)\n",
      "Requirement already satisfied: tornado>=6.1 in /home/carlos/miniconda3/envs/mlclassapp/lib/python3.8/site-packages (from notebook==6.4.12->-r requirements.txt (line 3)) (6.1)\n",
      "Requirement already satisfied: argon2-cffi in /home/carlos/miniconda3/envs/mlclassapp/lib/python3.8/site-packages (from notebook==6.4.12->-r requirements.txt (line 3)) (21.3.0)\n",
      "Requirement already satisfied: jinja2 in /home/carlos/miniconda3/envs/mlclassapp/lib/python3.8/site-packages (from notebook==6.4.12->-r requirements.txt (line 3)) (3.1.2)\n",
      "Requirement already satisfied: nest-asyncio>=1.5 in /home/carlos/miniconda3/envs/mlclassapp/lib/python3.8/site-packages (from notebook==6.4.12->-r requirements.txt (line 3)) (1.5.5)\n",
      "Requirement already satisfied: ipython-genutils in /home/carlos/miniconda3/envs/mlclassapp/lib/python3.8/site-packages (from notebook==6.4.12->-r requirements.txt (line 3)) (0.2.0)\n",
      "Requirement already satisfied: ipykernel in /home/carlos/miniconda3/envs/mlclassapp/lib/python3.8/site-packages (from notebook==6.4.12->-r requirements.txt (line 3)) (6.15.1)\n",
      "Requirement already satisfied: prometheus-client in /home/carlos/miniconda3/envs/mlclassapp/lib/python3.8/site-packages (from notebook==6.4.12->-r requirements.txt (line 3)) (0.14.1)\n",
      "Requirement already satisfied: terminado>=0.8.3 in /home/carlos/miniconda3/envs/mlclassapp/lib/python3.8/site-packages (from notebook==6.4.12->-r requirements.txt (line 3)) (0.15.0)\n",
      "Requirement already satisfied: nbconvert>=5 in /home/carlos/miniconda3/envs/mlclassapp/lib/python3.8/site-packages (from notebook==6.4.12->-r requirements.txt (line 3)) (6.5.0)\n",
      "Requirement already satisfied: Send2Trash>=1.8.0 in /home/carlos/miniconda3/envs/mlclassapp/lib/python3.8/site-packages (from notebook==6.4.12->-r requirements.txt (line 3)) (1.8.0)\n",
      "Requirement already satisfied: pytz>=2020.1 in /home/carlos/miniconda3/envs/mlclassapp/lib/python3.8/site-packages (from pandas==1.4.3->-r requirements.txt (line 5)) (2022.1)\n",
      "Requirement already satisfied: urllib3<1.27,>=1.21.1 in /home/carlos/miniconda3/envs/mlclassapp/lib/python3.8/site-packages (from requests==2.28.1->-r requirements.txt (line 6)) (1.26.10)\n",
      "Requirement already satisfied: charset-normalizer<3,>=2 in /home/carlos/miniconda3/envs/mlclassapp/lib/python3.8/site-packages (from requests==2.28.1->-r requirements.txt (line 6)) (2.1.0)\n",
      "Requirement already satisfied: idna<4,>=2.5 in /home/carlos/miniconda3/envs/mlclassapp/lib/python3.8/site-packages (from requests==2.28.1->-r requirements.txt (line 6)) (3.3)\n",
      "Requirement already satisfied: certifi>=2017.4.17 in /home/carlos/miniconda3/envs/mlclassapp/lib/python3.8/site-packages (from requests==2.28.1->-r requirements.txt (line 6)) (2022.6.15)\n",
      "Requirement already satisfied: threadpoolctl>=2.0.0 in /home/carlos/miniconda3/envs/mlclassapp/lib/python3.8/site-packages (from scikit-learn==1.1.1->-r requirements.txt (line 7)) (3.1.0)\n",
      "Requirement already satisfied: tenacity>=6.2.0 in /home/carlos/miniconda3/envs/mlclassapp/lib/python3.8/site-packages (from plotly==5.9.0->-r requirements.txt (line 11)) (8.0.1)\n",
      "Requirement already satisfied: patsy>=0.5.2 in /home/carlos/miniconda3/envs/mlclassapp/lib/python3.8/site-packages (from statsmodels==0.13.2->-r requirements.txt (line 12)) (0.5.2)\n",
      "Requirement already satisfied: tqdm in /home/carlos/miniconda3/envs/mlclassapp/lib/python3.8/site-packages (from umap-learn==0.5.3->-r requirements.txt (line 13)) (4.64.0)\n",
      "Requirement already satisfied: numba>=0.49 in /home/carlos/miniconda3/envs/mlclassapp/lib/python3.8/site-packages (from umap-learn==0.5.3->-r requirements.txt (line 13)) (0.55.2)\n",
      "Requirement already satisfied: pynndescent>=0.5 in /home/carlos/miniconda3/envs/mlclassapp/lib/python3.8/site-packages (from umap-learn==0.5.3->-r requirements.txt (line 13)) (0.5.7)\n",
      "Requirement already satisfied: ipython>=6.1.0 in /home/carlos/miniconda3/envs/mlclassapp/lib/python3.8/site-packages (from ipywidgets->-r requirements.txt (line 15)) (8.4.0)\n"
     ]
    },
    {
     "name": "stdout",
     "output_type": "stream",
     "text": [
      "Collecting jupyterlab-widgets~=3.0.7\n",
      "  Downloading jupyterlab_widgets-3.0.7-py3-none-any.whl (198 kB)\n",
      "\u001b[2K     \u001b[38;2;114;156;31m━━━━━━━━━━━━━━━━━━━━━━━━━━━━━━━━━━━━━━━\u001b[0m \u001b[32m198.2/198.2 kB\u001b[0m \u001b[31m7.8 MB/s\u001b[0m eta \u001b[36m0:00:00\u001b[0m\n",
      "\u001b[?25hCollecting widgetsnbextension~=4.0.7\n",
      "  Downloading widgetsnbextension-4.0.7-py3-none-any.whl (2.1 MB)\n",
      "\u001b[2K     \u001b[38;2;114;156;31m━━━━━━━━━━━━━━━━━━━━━━━━━━━━━━━━━━━━━━━━\u001b[0m \u001b[32m2.1/2.1 MB\u001b[0m \u001b[31m6.3 MB/s\u001b[0m eta \u001b[36m0:00:00\u001b[0m MB/s\u001b[0m eta \u001b[36m0:00:01\u001b[0m:01\u001b[0m\n",
      "\u001b[?25hRequirement already satisfied: matplotlib-inline>=0.1 in /home/carlos/miniconda3/envs/mlclassapp/lib/python3.8/site-packages (from ipykernel->notebook==6.4.12->-r requirements.txt (line 3)) (0.1.3)\n",
      "Requirement already satisfied: debugpy>=1.0 in /home/carlos/miniconda3/envs/mlclassapp/lib/python3.8/site-packages (from ipykernel->notebook==6.4.12->-r requirements.txt (line 3)) (1.6.2)\n",
      "Requirement already satisfied: psutil in /home/carlos/miniconda3/envs/mlclassapp/lib/python3.8/site-packages (from ipykernel->notebook==6.4.12->-r requirements.txt (line 3)) (5.9.1)\n",
      "Requirement already satisfied: backcall in /home/carlos/miniconda3/envs/mlclassapp/lib/python3.8/site-packages (from ipython>=6.1.0->ipywidgets->-r requirements.txt (line 15)) (0.2.0)\n",
      "Requirement already satisfied: setuptools>=18.5 in /home/carlos/miniconda3/envs/mlclassapp/lib/python3.8/site-packages (from ipython>=6.1.0->ipywidgets->-r requirements.txt (line 15)) (63.2.0)\n",
      "Requirement already satisfied: pexpect>4.3 in /home/carlos/miniconda3/envs/mlclassapp/lib/python3.8/site-packages (from ipython>=6.1.0->ipywidgets->-r requirements.txt (line 15)) (4.8.0)\n",
      "Requirement already satisfied: stack-data in /home/carlos/miniconda3/envs/mlclassapp/lib/python3.8/site-packages (from ipython>=6.1.0->ipywidgets->-r requirements.txt (line 15)) (0.3.0)\n",
      "Requirement already satisfied: pygments>=2.4.0 in /home/carlos/miniconda3/envs/mlclassapp/lib/python3.8/site-packages (from ipython>=6.1.0->ipywidgets->-r requirements.txt (line 15)) (2.12.0)\n",
      "Requirement already satisfied: pickleshare in /home/carlos/miniconda3/envs/mlclassapp/lib/python3.8/site-packages (from ipython>=6.1.0->ipywidgets->-r requirements.txt (line 15)) (0.7.5)\n",
      "Requirement already satisfied: decorator in /home/carlos/miniconda3/envs/mlclassapp/lib/python3.8/site-packages (from ipython>=6.1.0->ipywidgets->-r requirements.txt (line 15)) (5.1.1)\n",
      "Requirement already satisfied: jedi>=0.16 in /home/carlos/miniconda3/envs/mlclassapp/lib/python3.8/site-packages (from ipython>=6.1.0->ipywidgets->-r requirements.txt (line 15)) (0.18.1)\n",
      "Requirement already satisfied: prompt-toolkit!=3.0.0,!=3.0.1,<3.1.0,>=2.0.0 in /home/carlos/miniconda3/envs/mlclassapp/lib/python3.8/site-packages (from ipython>=6.1.0->ipywidgets->-r requirements.txt (line 15)) (3.0.30)\n",
      "Requirement already satisfied: entrypoints in /home/carlos/miniconda3/envs/mlclassapp/lib/python3.8/site-packages (from jupyter-client>=5.3.4->notebook==6.4.12->-r requirements.txt (line 3)) (0.4)\n",
      "Requirement already satisfied: mistune<2,>=0.8.1 in /home/carlos/miniconda3/envs/mlclassapp/lib/python3.8/site-packages (from nbconvert>=5->notebook==6.4.12->-r requirements.txt (line 3)) (0.8.4)\n",
      "Requirement already satisfied: nbclient>=0.5.0 in /home/carlos/miniconda3/envs/mlclassapp/lib/python3.8/site-packages (from nbconvert>=5->notebook==6.4.12->-r requirements.txt (line 3)) (0.6.6)\n",
      "Requirement already satisfied: pandocfilters>=1.4.1 in /home/carlos/miniconda3/envs/mlclassapp/lib/python3.8/site-packages (from nbconvert>=5->notebook==6.4.12->-r requirements.txt (line 3)) (1.5.0)\n",
      "Requirement already satisfied: beautifulsoup4 in /home/carlos/miniconda3/envs/mlclassapp/lib/python3.8/site-packages (from nbconvert>=5->notebook==6.4.12->-r requirements.txt (line 3)) (4.11.1)\n",
      "Requirement already satisfied: defusedxml in /home/carlos/miniconda3/envs/mlclassapp/lib/python3.8/site-packages (from nbconvert>=5->notebook==6.4.12->-r requirements.txt (line 3)) (0.7.1)\n",
      "Requirement already satisfied: MarkupSafe>=2.0 in /home/carlos/miniconda3/envs/mlclassapp/lib/python3.8/site-packages (from nbconvert>=5->notebook==6.4.12->-r requirements.txt (line 3)) (2.1.1)\n",
      "Requirement already satisfied: tinycss2 in /home/carlos/miniconda3/envs/mlclassapp/lib/python3.8/site-packages (from nbconvert>=5->notebook==6.4.12->-r requirements.txt (line 3)) (1.1.1)\n",
      "Requirement already satisfied: jupyterlab-pygments in /home/carlos/miniconda3/envs/mlclassapp/lib/python3.8/site-packages (from nbconvert>=5->notebook==6.4.12->-r requirements.txt (line 3)) (0.2.2)\n",
      "Requirement already satisfied: bleach in /home/carlos/miniconda3/envs/mlclassapp/lib/python3.8/site-packages (from nbconvert>=5->notebook==6.4.12->-r requirements.txt (line 3)) (5.0.1)\n",
      "Requirement already satisfied: jsonschema>=2.6 in /home/carlos/miniconda3/envs/mlclassapp/lib/python3.8/site-packages (from nbformat->notebook==6.4.12->-r requirements.txt (line 3)) (4.7.2)\n",
      "Requirement already satisfied: fastjsonschema in /home/carlos/miniconda3/envs/mlclassapp/lib/python3.8/site-packages (from nbformat->notebook==6.4.12->-r requirements.txt (line 3)) (2.16.1)\n",
      "Requirement already satisfied: llvmlite<0.39,>=0.38.0rc1 in /home/carlos/miniconda3/envs/mlclassapp/lib/python3.8/site-packages (from numba>=0.49->umap-learn==0.5.3->-r requirements.txt (line 13)) (0.38.1)\n",
      "Collecting numba>=0.49\n",
      "  Downloading numba-0.57.0-cp38-cp38-manylinux2014_x86_64.manylinux_2_17_x86_64.whl (3.6 MB)\n",
      "\u001b[2K     \u001b[38;2;114;156;31m━━━━━━━━━━━━━━━━━━━━━━━━━━━━━━━━━━━━━━━━\u001b[0m \u001b[32m3.6/3.6 MB\u001b[0m \u001b[31m6.4 MB/s\u001b[0m eta \u001b[36m0:00:00\u001b[0mm eta \u001b[36m0:00:01\u001b[0m[36m0:00:01\u001b[0m\n",
      "\u001b[?25hCollecting llvmlite<0.41,>=0.40.0dev0\n",
      "  Downloading llvmlite-0.40.0-cp38-cp38-manylinux_2_17_x86_64.manylinux2014_x86_64.whl (42.1 MB)\n",
      "\u001b[2K     \u001b[38;2;114;156;31m━━━━━━━━━━━━━━━━━━━━━━━━━━━━━━━━━━━━━━━━\u001b[0m \u001b[32m42.1/42.1 MB\u001b[0m \u001b[31m5.9 MB/s\u001b[0m eta \u001b[36m0:00:00\u001b[0mm eta \u001b[36m0:00:01\u001b[0m[36m0:00:01\u001b[0m\n",
      "\u001b[?25hRequirement already satisfied: importlib-metadata in /home/carlos/miniconda3/envs/mlclassapp/lib/python3.8/site-packages (from numba>=0.49->umap-learn==0.5.3->-r requirements.txt (line 13)) (4.12.0)\n",
      "Requirement already satisfied: six in /home/carlos/miniconda3/envs/mlclassapp/lib/python3.8/site-packages (from patsy>=0.5.2->statsmodels==0.13.2->-r requirements.txt (line 12)) (1.16.0)\n",
      "Requirement already satisfied: ptyprocess in /home/carlos/miniconda3/envs/mlclassapp/lib/python3.8/site-packages (from terminado>=0.8.3->notebook==6.4.12->-r requirements.txt (line 3)) (0.7.0)\n",
      "Requirement already satisfied: argon2-cffi-bindings in /home/carlos/miniconda3/envs/mlclassapp/lib/python3.8/site-packages (from argon2-cffi->notebook==6.4.12->-r requirements.txt (line 3)) (21.2.0)\n",
      "Requirement already satisfied: parso<0.9.0,>=0.8.0 in /home/carlos/miniconda3/envs/mlclassapp/lib/python3.8/site-packages (from jedi>=0.16->ipython>=6.1.0->ipywidgets->-r requirements.txt (line 15)) (0.8.3)\n",
      "Requirement already satisfied: attrs>=17.4.0 in /home/carlos/miniconda3/envs/mlclassapp/lib/python3.8/site-packages (from jsonschema>=2.6->nbformat->notebook==6.4.12->-r requirements.txt (line 3)) (21.4.0)\n",
      "Requirement already satisfied: importlib-resources>=1.4.0 in /home/carlos/miniconda3/envs/mlclassapp/lib/python3.8/site-packages (from jsonschema>=2.6->nbformat->notebook==6.4.12->-r requirements.txt (line 3)) (5.8.0)\n",
      "Requirement already satisfied: pyrsistent!=0.17.0,!=0.17.1,!=0.17.2,>=0.14.0 in /home/carlos/miniconda3/envs/mlclassapp/lib/python3.8/site-packages (from jsonschema>=2.6->nbformat->notebook==6.4.12->-r requirements.txt (line 3)) (0.18.1)\n",
      "Requirement already satisfied: wcwidth in /home/carlos/miniconda3/envs/mlclassapp/lib/python3.8/site-packages (from prompt-toolkit!=3.0.0,!=3.0.1,<3.1.0,>=2.0.0->ipython>=6.1.0->ipywidgets->-r requirements.txt (line 15)) (0.2.5)\n",
      "Requirement already satisfied: cffi>=1.0.1 in /home/carlos/miniconda3/envs/mlclassapp/lib/python3.8/site-packages (from argon2-cffi-bindings->argon2-cffi->notebook==6.4.12->-r requirements.txt (line 3)) (1.15.1)\n",
      "Requirement already satisfied: soupsieve>1.2 in /home/carlos/miniconda3/envs/mlclassapp/lib/python3.8/site-packages (from beautifulsoup4->nbconvert>=5->notebook==6.4.12->-r requirements.txt (line 3)) (2.3.2.post1)\n"
     ]
    },
    {
     "name": "stdout",
     "output_type": "stream",
     "text": [
      "Requirement already satisfied: webencodings in /home/carlos/miniconda3/envs/mlclassapp/lib/python3.8/site-packages (from bleach->nbconvert>=5->notebook==6.4.12->-r requirements.txt (line 3)) (0.5.1)\n",
      "Requirement already satisfied: zipp>=0.5 in /home/carlos/miniconda3/envs/mlclassapp/lib/python3.8/site-packages (from importlib-metadata->numba>=0.49->umap-learn==0.5.3->-r requirements.txt (line 13)) (3.8.1)\n",
      "Requirement already satisfied: pure-eval in /home/carlos/miniconda3/envs/mlclassapp/lib/python3.8/site-packages (from stack-data->ipython>=6.1.0->ipywidgets->-r requirements.txt (line 15)) (0.2.2)\n",
      "Requirement already satisfied: asttokens in /home/carlos/miniconda3/envs/mlclassapp/lib/python3.8/site-packages (from stack-data->ipython>=6.1.0->ipywidgets->-r requirements.txt (line 15)) (2.0.5)\n",
      "Requirement already satisfied: executing in /home/carlos/miniconda3/envs/mlclassapp/lib/python3.8/site-packages (from stack-data->ipython>=6.1.0->ipywidgets->-r requirements.txt (line 15)) (0.8.3)\n",
      "Requirement already satisfied: pycparser in /home/carlos/miniconda3/envs/mlclassapp/lib/python3.8/site-packages (from cffi>=1.0.1->argon2-cffi-bindings->argon2-cffi->notebook==6.4.12->-r requirements.txt (line 3)) (2.21)\n",
      "Installing collected packages: widgetsnbextension, numpy, llvmlite, jupyterlab-widgets, numba, ipywidgets\n",
      "  Attempting uninstall: numpy\n",
      "    Found existing installation: numpy 1.22.4\n",
      "    Uninstalling numpy-1.22.4:\n",
      "      Successfully uninstalled numpy-1.22.4\n",
      "  Attempting uninstall: llvmlite\n",
      "    Found existing installation: llvmlite 0.38.1\n",
      "    Uninstalling llvmlite-0.38.1:\n",
      "      Successfully uninstalled llvmlite-0.38.1\n",
      "  Attempting uninstall: numba\n",
      "    Found existing installation: numba 0.55.2\n",
      "    Uninstalling numba-0.55.2:\n",
      "      Successfully uninstalled numba-0.55.2\n",
      "Successfully installed ipywidgets-8.0.6 jupyterlab-widgets-3.0.7 llvmlite-0.40.0 numba-0.57.0 numpy-1.23.1 widgetsnbextension-4.0.7\n",
      "Note: you may need to restart the kernel to use updated packages.\n"
     ]
    }
   ],
   "source": [
    "pip install -r requirements.txt"
   ]
  },
  {
   "cell_type": "code",
   "execution_count": 5,
   "metadata": {
    "colab": {
     "base_uri": "https://localhost:8080/"
    },
    "id": "BQ9flrTHaIEb",
    "outputId": "e546b5cd-d687-401b-d278-e3a043255bb8"
   },
   "outputs": [
    {
     "name": "stdout",
     "output_type": "stream",
     "text": [
      "The autoreload extension is already loaded. To reload it, use:\n",
      "  %reload_ext autoreload\n"
     ]
    }
   ],
   "source": [
    "%load_ext autoreload\n",
    "%autoreload 2\n",
    "\n",
    "from plotly.offline import iplot, init_notebook_mode\n",
    "from plotly.subplots import make_subplots\n",
    "from rdkit.Chem.Draw import IPythonConsole #RDKit drawing\n",
    "# A few settings to improve the quality of structures \n",
    "from rdkit.Chem import rdDepictor\n",
    "IPythonConsole.ipython_useSVG = True\n",
    "rdDepictor.SetPreferCoordGen(True)\n",
    "import matplotlib.pyplot as plt\n",
    "import plotly.express as px\n",
    "import plotly.graph_objects as go\n",
    "\n",
    "from rdkit.Chem import Draw\n",
    "from rdkit.Chem import AllChem\n",
    "from rdkit import Chem\n",
    "\n",
    "from sklearn import tree\n",
    "from sklearn.cluster import KMeans\n",
    "from sklearn.ensemble import ExtraTreesRegressor, ExtraTreesClassifier\n",
    "from sklearn.feature_selection import VarianceThreshold\n",
    "from sklearn.model_selection import cross_val_predict, train_test_split\n",
    "from sklearn.svm import SVC, SVR\n",
    "from sklearn.tree import DecisionTreeRegressor\n",
    "\n",
    "import numpy as np\n",
    "import pandas as pd\n",
    "import time\n",
    "import utils\n",
    "import warnings\n",
    "\n",
    "warnings.simplefilter(action='ignore', category=FutureWarning)"
   ]
  },
  {
   "cell_type": "code",
   "execution_count": 6,
   "metadata": {
    "colab": {
     "base_uri": "https://localhost:8080/",
     "height": 337
    },
    "id": "6IMnadvDatyN",
    "outputId": "c5701f6e-5213-4def-d5f6-7d05ece1ac3a"
   },
   "outputs": [
    {
     "name": "stdout",
     "output_type": "stream",
     "text": [
      "(1242, 9)\n"
     ]
    },
    {
     "data": {
      "text/html": [
       "<div>\n",
       "<style scoped>\n",
       "    .dataframe tbody tr th:only-of-type {\n",
       "        vertical-align: middle;\n",
       "    }\n",
       "\n",
       "    .dataframe tbody tr th {\n",
       "        vertical-align: top;\n",
       "    }\n",
       "\n",
       "    .dataframe thead th {\n",
       "        text-align: right;\n",
       "    }\n",
       "</style>\n",
       "<table border=\"1\" class=\"dataframe\">\n",
       "  <thead>\n",
       "    <tr style=\"text-align: right;\">\n",
       "      <th></th>\n",
       "      <th>SMILES</th>\n",
       "      <th>database</th>\n",
       "      <th>MolLogP</th>\n",
       "      <th>Acceptor_Count</th>\n",
       "      <th>Donor_Count</th>\n",
       "      <th>NumRotatableBonds</th>\n",
       "      <th>RingCount</th>\n",
       "      <th>MolWt</th>\n",
       "      <th>Experimental IC50 (log10)</th>\n",
       "    </tr>\n",
       "  </thead>\n",
       "  <tbody>\n",
       "    <tr>\n",
       "      <th>0</th>\n",
       "      <td>FC(F)(F)c1cccc(NC(=O)Nc2ncccc2OCc3ccccc3)c1</td>\n",
       "      <td>timbal</td>\n",
       "      <td>5.3234</td>\n",
       "      <td>3</td>\n",
       "      <td>2</td>\n",
       "      <td>5</td>\n",
       "      <td>3</td>\n",
       "      <td>387.361</td>\n",
       "      <td>6.518557</td>\n",
       "    </tr>\n",
       "    <tr>\n",
       "      <th>1</th>\n",
       "      <td>C[C@H](N1C(=O)c2ccccc2C1(OCC3(CO)CC3)c4ccc(Cl)...</td>\n",
       "      <td>timbal</td>\n",
       "      <td>6.2006</td>\n",
       "      <td>3</td>\n",
       "      <td>2</td>\n",
       "      <td>7</td>\n",
       "      <td>5</td>\n",
       "      <td>482.407</td>\n",
       "      <td>5.050610</td>\n",
       "    </tr>\n",
       "    <tr>\n",
       "      <th>2</th>\n",
       "      <td>CC(=O)c1cc(-c2ccccn2)c2ccccn12</td>\n",
       "      <td>ippidb</td>\n",
       "      <td>3.2039</td>\n",
       "      <td>2</td>\n",
       "      <td>0</td>\n",
       "      <td>2</td>\n",
       "      <td>3</td>\n",
       "      <td>236.274</td>\n",
       "      <td>5.700000</td>\n",
       "    </tr>\n",
       "    <tr>\n",
       "      <th>3</th>\n",
       "      <td>FC(F)(F)c1cc(Cl)nc(n1)c2ccc(NC(=O)CCl)cn2</td>\n",
       "      <td>timbal</td>\n",
       "      <td>3.3881</td>\n",
       "      <td>4</td>\n",
       "      <td>1</td>\n",
       "      <td>3</td>\n",
       "      <td>2</td>\n",
       "      <td>351.115</td>\n",
       "      <td>5.853872</td>\n",
       "    </tr>\n",
       "    <tr>\n",
       "      <th>4</th>\n",
       "      <td>C[C@@H]1NC(=O)[C@H](CSSC[C@H](NC(=O)[C@@H]2CCC...</td>\n",
       "      <td>timbal</td>\n",
       "      <td>-0.2256</td>\n",
       "      <td>8</td>\n",
       "      <td>7</td>\n",
       "      <td>6</td>\n",
       "      <td>3</td>\n",
       "      <td>609.727</td>\n",
       "      <td>7.698970</td>\n",
       "    </tr>\n",
       "  </tbody>\n",
       "</table>\n",
       "</div>"
      ],
      "text/plain": [
       "                                              SMILES database  MolLogP  \\\n",
       "0        FC(F)(F)c1cccc(NC(=O)Nc2ncccc2OCc3ccccc3)c1   timbal   5.3234   \n",
       "1  C[C@H](N1C(=O)c2ccccc2C1(OCC3(CO)CC3)c4ccc(Cl)...   timbal   6.2006   \n",
       "2                     CC(=O)c1cc(-c2ccccn2)c2ccccn12   ippidb   3.2039   \n",
       "3          FC(F)(F)c1cc(Cl)nc(n1)c2ccc(NC(=O)CCl)cn2   timbal   3.3881   \n",
       "4  C[C@@H]1NC(=O)[C@H](CSSC[C@H](NC(=O)[C@@H]2CCC...   timbal  -0.2256   \n",
       "\n",
       "   Acceptor_Count  Donor_Count  NumRotatableBonds  RingCount    MolWt  \\\n",
       "0               3            2                  5          3  387.361   \n",
       "1               3            2                  7          5  482.407   \n",
       "2               2            0                  2          3  236.274   \n",
       "3               4            1                  3          2  351.115   \n",
       "4               8            7                  6          3  609.727   \n",
       "\n",
       "   Experimental IC50 (log10)  \n",
       "0                   6.518557  \n",
       "1                   5.050610  \n",
       "2                   5.700000  \n",
       "3                   5.853872  \n",
       "4                   7.698970  "
      ]
     },
     "execution_count": 6,
     "metadata": {},
     "output_type": "execute_result"
    }
   ],
   "source": [
    "df_data = pd.read_csv(\"data/ppi_inhibitors.minified.csv\") # Load data from file to a DataFrame structure\n",
    "print(df_data.shape) # .shape displays how the dataframe (matrix) looks like\n",
    "df_data.head() # .head() displays the first few items in the dataframe"
   ]
  },
  {
   "cell_type": "code",
   "execution_count": 7,
   "metadata": {
    "colab": {
     "base_uri": "https://localhost:8080/",
     "height": 597
    },
    "id": "5OkunBhib-G6",
    "outputId": "f15352c8-24db-4610-ec20-3e3b767d742f"
   },
   "outputs": [
    {
     "name": "stdout",
     "output_type": "stream",
     "text": [
      "timbal    702\n",
      "ippidb    540\n",
      "Name: database, dtype: int64\n"
     ]
    },
    {
     "data": {
      "text/html": [
       "<html>\n",
       "<head><meta charset=\"utf-8\" /></head>\n",
       "<body>\n",
       "    <div>            <script src=\"https://cdnjs.cloudflare.com/ajax/libs/mathjax/2.7.5/MathJax.js?config=TeX-AMS-MML_SVG\"></script><script type=\"text/javascript\">if (window.MathJax && window.MathJax.Hub && window.MathJax.Hub.Config) {window.MathJax.Hub.Config({SVG: {font: \"STIX-Web\"}});}</script>                <script type=\"text/javascript\">window.PlotlyConfig = {MathJaxConfig: 'local'};</script>\n",
       "        <script src=\"https://cdn.plot.ly/plotly-2.12.1.min.js\"></script>                <div id=\"70710d4f-c3ae-444c-b2f2-9222098e4169\" class=\"plotly-graph-div\" style=\"height:525px; width:100%;\"></div>            <script type=\"text/javascript\">                                    window.PLOTLYENV=window.PLOTLYENV || {};                                    if (document.getElementById(\"70710d4f-c3ae-444c-b2f2-9222098e4169\")) {                    Plotly.newPlot(                        \"70710d4f-c3ae-444c-b2f2-9222098e4169\",                        [{\"domain\":{\"x\":[0.0,1.0],\"y\":[0.0,1.0]},\"hovertemplate\":\"label=%{label}<br>value=%{value}<extra></extra>\",\"labels\":[\"timbal\",\"ippidb\"],\"legendgroup\":\"\",\"name\":\"\",\"showlegend\":true,\"values\":[702,540],\"type\":\"pie\"}],                        {\"template\":{\"data\":{\"histogram2dcontour\":[{\"type\":\"histogram2dcontour\",\"colorbar\":{\"outlinewidth\":0,\"ticks\":\"\"},\"colorscale\":[[0.0,\"#0d0887\"],[0.1111111111111111,\"#46039f\"],[0.2222222222222222,\"#7201a8\"],[0.3333333333333333,\"#9c179e\"],[0.4444444444444444,\"#bd3786\"],[0.5555555555555556,\"#d8576b\"],[0.6666666666666666,\"#ed7953\"],[0.7777777777777778,\"#fb9f3a\"],[0.8888888888888888,\"#fdca26\"],[1.0,\"#f0f921\"]]}],\"choropleth\":[{\"type\":\"choropleth\",\"colorbar\":{\"outlinewidth\":0,\"ticks\":\"\"}}],\"histogram2d\":[{\"type\":\"histogram2d\",\"colorbar\":{\"outlinewidth\":0,\"ticks\":\"\"},\"colorscale\":[[0.0,\"#0d0887\"],[0.1111111111111111,\"#46039f\"],[0.2222222222222222,\"#7201a8\"],[0.3333333333333333,\"#9c179e\"],[0.4444444444444444,\"#bd3786\"],[0.5555555555555556,\"#d8576b\"],[0.6666666666666666,\"#ed7953\"],[0.7777777777777778,\"#fb9f3a\"],[0.8888888888888888,\"#fdca26\"],[1.0,\"#f0f921\"]]}],\"heatmap\":[{\"type\":\"heatmap\",\"colorbar\":{\"outlinewidth\":0,\"ticks\":\"\"},\"colorscale\":[[0.0,\"#0d0887\"],[0.1111111111111111,\"#46039f\"],[0.2222222222222222,\"#7201a8\"],[0.3333333333333333,\"#9c179e\"],[0.4444444444444444,\"#bd3786\"],[0.5555555555555556,\"#d8576b\"],[0.6666666666666666,\"#ed7953\"],[0.7777777777777778,\"#fb9f3a\"],[0.8888888888888888,\"#fdca26\"],[1.0,\"#f0f921\"]]}],\"heatmapgl\":[{\"type\":\"heatmapgl\",\"colorbar\":{\"outlinewidth\":0,\"ticks\":\"\"},\"colorscale\":[[0.0,\"#0d0887\"],[0.1111111111111111,\"#46039f\"],[0.2222222222222222,\"#7201a8\"],[0.3333333333333333,\"#9c179e\"],[0.4444444444444444,\"#bd3786\"],[0.5555555555555556,\"#d8576b\"],[0.6666666666666666,\"#ed7953\"],[0.7777777777777778,\"#fb9f3a\"],[0.8888888888888888,\"#fdca26\"],[1.0,\"#f0f921\"]]}],\"contourcarpet\":[{\"type\":\"contourcarpet\",\"colorbar\":{\"outlinewidth\":0,\"ticks\":\"\"}}],\"contour\":[{\"type\":\"contour\",\"colorbar\":{\"outlinewidth\":0,\"ticks\":\"\"},\"colorscale\":[[0.0,\"#0d0887\"],[0.1111111111111111,\"#46039f\"],[0.2222222222222222,\"#7201a8\"],[0.3333333333333333,\"#9c179e\"],[0.4444444444444444,\"#bd3786\"],[0.5555555555555556,\"#d8576b\"],[0.6666666666666666,\"#ed7953\"],[0.7777777777777778,\"#fb9f3a\"],[0.8888888888888888,\"#fdca26\"],[1.0,\"#f0f921\"]]}],\"surface\":[{\"type\":\"surface\",\"colorbar\":{\"outlinewidth\":0,\"ticks\":\"\"},\"colorscale\":[[0.0,\"#0d0887\"],[0.1111111111111111,\"#46039f\"],[0.2222222222222222,\"#7201a8\"],[0.3333333333333333,\"#9c179e\"],[0.4444444444444444,\"#bd3786\"],[0.5555555555555556,\"#d8576b\"],[0.6666666666666666,\"#ed7953\"],[0.7777777777777778,\"#fb9f3a\"],[0.8888888888888888,\"#fdca26\"],[1.0,\"#f0f921\"]]}],\"mesh3d\":[{\"type\":\"mesh3d\",\"colorbar\":{\"outlinewidth\":0,\"ticks\":\"\"}}],\"scatter\":[{\"fillpattern\":{\"fillmode\":\"overlay\",\"size\":10,\"solidity\":0.2},\"type\":\"scatter\"}],\"parcoords\":[{\"type\":\"parcoords\",\"line\":{\"colorbar\":{\"outlinewidth\":0,\"ticks\":\"\"}}}],\"scatterpolargl\":[{\"type\":\"scatterpolargl\",\"marker\":{\"colorbar\":{\"outlinewidth\":0,\"ticks\":\"\"}}}],\"bar\":[{\"error_x\":{\"color\":\"#2a3f5f\"},\"error_y\":{\"color\":\"#2a3f5f\"},\"marker\":{\"line\":{\"color\":\"#E5ECF6\",\"width\":0.5},\"pattern\":{\"fillmode\":\"overlay\",\"size\":10,\"solidity\":0.2}},\"type\":\"bar\"}],\"scattergeo\":[{\"type\":\"scattergeo\",\"marker\":{\"colorbar\":{\"outlinewidth\":0,\"ticks\":\"\"}}}],\"scatterpolar\":[{\"type\":\"scatterpolar\",\"marker\":{\"colorbar\":{\"outlinewidth\":0,\"ticks\":\"\"}}}],\"histogram\":[{\"marker\":{\"pattern\":{\"fillmode\":\"overlay\",\"size\":10,\"solidity\":0.2}},\"type\":\"histogram\"}],\"scattergl\":[{\"type\":\"scattergl\",\"marker\":{\"colorbar\":{\"outlinewidth\":0,\"ticks\":\"\"}}}],\"scatter3d\":[{\"type\":\"scatter3d\",\"line\":{\"colorbar\":{\"outlinewidth\":0,\"ticks\":\"\"}},\"marker\":{\"colorbar\":{\"outlinewidth\":0,\"ticks\":\"\"}}}],\"scattermapbox\":[{\"type\":\"scattermapbox\",\"marker\":{\"colorbar\":{\"outlinewidth\":0,\"ticks\":\"\"}}}],\"scatterternary\":[{\"type\":\"scatterternary\",\"marker\":{\"colorbar\":{\"outlinewidth\":0,\"ticks\":\"\"}}}],\"scattercarpet\":[{\"type\":\"scattercarpet\",\"marker\":{\"colorbar\":{\"outlinewidth\":0,\"ticks\":\"\"}}}],\"carpet\":[{\"aaxis\":{\"endlinecolor\":\"#2a3f5f\",\"gridcolor\":\"white\",\"linecolor\":\"white\",\"minorgridcolor\":\"white\",\"startlinecolor\":\"#2a3f5f\"},\"baxis\":{\"endlinecolor\":\"#2a3f5f\",\"gridcolor\":\"white\",\"linecolor\":\"white\",\"minorgridcolor\":\"white\",\"startlinecolor\":\"#2a3f5f\"},\"type\":\"carpet\"}],\"table\":[{\"cells\":{\"fill\":{\"color\":\"#EBF0F8\"},\"line\":{\"color\":\"white\"}},\"header\":{\"fill\":{\"color\":\"#C8D4E3\"},\"line\":{\"color\":\"white\"}},\"type\":\"table\"}],\"barpolar\":[{\"marker\":{\"line\":{\"color\":\"#E5ECF6\",\"width\":0.5},\"pattern\":{\"fillmode\":\"overlay\",\"size\":10,\"solidity\":0.2}},\"type\":\"barpolar\"}],\"pie\":[{\"automargin\":true,\"type\":\"pie\"}]},\"layout\":{\"autotypenumbers\":\"strict\",\"colorway\":[\"#636efa\",\"#EF553B\",\"#00cc96\",\"#ab63fa\",\"#FFA15A\",\"#19d3f3\",\"#FF6692\",\"#B6E880\",\"#FF97FF\",\"#FECB52\"],\"font\":{\"color\":\"#2a3f5f\"},\"hovermode\":\"closest\",\"hoverlabel\":{\"align\":\"left\"},\"paper_bgcolor\":\"white\",\"plot_bgcolor\":\"#E5ECF6\",\"polar\":{\"bgcolor\":\"#E5ECF6\",\"angularaxis\":{\"gridcolor\":\"white\",\"linecolor\":\"white\",\"ticks\":\"\"},\"radialaxis\":{\"gridcolor\":\"white\",\"linecolor\":\"white\",\"ticks\":\"\"}},\"ternary\":{\"bgcolor\":\"#E5ECF6\",\"aaxis\":{\"gridcolor\":\"white\",\"linecolor\":\"white\",\"ticks\":\"\"},\"baxis\":{\"gridcolor\":\"white\",\"linecolor\":\"white\",\"ticks\":\"\"},\"caxis\":{\"gridcolor\":\"white\",\"linecolor\":\"white\",\"ticks\":\"\"}},\"coloraxis\":{\"colorbar\":{\"outlinewidth\":0,\"ticks\":\"\"}},\"colorscale\":{\"sequential\":[[0.0,\"#0d0887\"],[0.1111111111111111,\"#46039f\"],[0.2222222222222222,\"#7201a8\"],[0.3333333333333333,\"#9c179e\"],[0.4444444444444444,\"#bd3786\"],[0.5555555555555556,\"#d8576b\"],[0.6666666666666666,\"#ed7953\"],[0.7777777777777778,\"#fb9f3a\"],[0.8888888888888888,\"#fdca26\"],[1.0,\"#f0f921\"]],\"sequentialminus\":[[0.0,\"#0d0887\"],[0.1111111111111111,\"#46039f\"],[0.2222222222222222,\"#7201a8\"],[0.3333333333333333,\"#9c179e\"],[0.4444444444444444,\"#bd3786\"],[0.5555555555555556,\"#d8576b\"],[0.6666666666666666,\"#ed7953\"],[0.7777777777777778,\"#fb9f3a\"],[0.8888888888888888,\"#fdca26\"],[1.0,\"#f0f921\"]],\"diverging\":[[0,\"#8e0152\"],[0.1,\"#c51b7d\"],[0.2,\"#de77ae\"],[0.3,\"#f1b6da\"],[0.4,\"#fde0ef\"],[0.5,\"#f7f7f7\"],[0.6,\"#e6f5d0\"],[0.7,\"#b8e186\"],[0.8,\"#7fbc41\"],[0.9,\"#4d9221\"],[1,\"#276419\"]]},\"xaxis\":{\"gridcolor\":\"white\",\"linecolor\":\"white\",\"ticks\":\"\",\"title\":{\"standoff\":15},\"zerolinecolor\":\"white\",\"automargin\":true,\"zerolinewidth\":2},\"yaxis\":{\"gridcolor\":\"white\",\"linecolor\":\"white\",\"ticks\":\"\",\"title\":{\"standoff\":15},\"zerolinecolor\":\"white\",\"automargin\":true,\"zerolinewidth\":2},\"scene\":{\"xaxis\":{\"backgroundcolor\":\"#E5ECF6\",\"gridcolor\":\"white\",\"linecolor\":\"white\",\"showbackground\":true,\"ticks\":\"\",\"zerolinecolor\":\"white\",\"gridwidth\":2},\"yaxis\":{\"backgroundcolor\":\"#E5ECF6\",\"gridcolor\":\"white\",\"linecolor\":\"white\",\"showbackground\":true,\"ticks\":\"\",\"zerolinecolor\":\"white\",\"gridwidth\":2},\"zaxis\":{\"backgroundcolor\":\"#E5ECF6\",\"gridcolor\":\"white\",\"linecolor\":\"white\",\"showbackground\":true,\"ticks\":\"\",\"zerolinecolor\":\"white\",\"gridwidth\":2}},\"shapedefaults\":{\"line\":{\"color\":\"#2a3f5f\"}},\"annotationdefaults\":{\"arrowcolor\":\"#2a3f5f\",\"arrowhead\":0,\"arrowwidth\":1},\"geo\":{\"bgcolor\":\"white\",\"landcolor\":\"#E5ECF6\",\"subunitcolor\":\"white\",\"showland\":true,\"showlakes\":true,\"lakecolor\":\"white\"},\"title\":{\"x\":0.05},\"mapbox\":{\"style\":\"light\"}}},\"legend\":{\"tracegroupgap\":0},\"title\":{\"text\":\"Data sources\"}},                        {\"responsive\": true}                    ).then(function(){\n",
       "                            \n",
       "var gd = document.getElementById('70710d4f-c3ae-444c-b2f2-9222098e4169');\n",
       "var x = new MutationObserver(function (mutations, observer) {{\n",
       "        var display = window.getComputedStyle(gd).display;\n",
       "        if (!display || display === 'none') {{\n",
       "            console.log([gd, 'removed!']);\n",
       "            Plotly.purge(gd);\n",
       "            observer.disconnect();\n",
       "        }}\n",
       "}});\n",
       "\n",
       "// Listen for the removal of the full notebook cells\n",
       "var notebookContainer = gd.closest('#notebook-container');\n",
       "if (notebookContainer) {{\n",
       "    x.observe(notebookContainer, {childList: true});\n",
       "}}\n",
       "\n",
       "// Listen for the clearing of the current output cell\n",
       "var outputEl = gd.closest('.output');\n",
       "if (outputEl) {{\n",
       "    x.observe(outputEl, {childList: true});\n",
       "}}\n",
       "\n",
       "                        })                };                            </script>        </div>\n",
       "</body>\n",
       "</html>"
      ]
     },
     "metadata": {},
     "output_type": "display_data"
    }
   ],
   "source": [
    "print(df_data['database'].value_counts())\n",
    "\n",
    "fig = px.pie(df_data, values=df_data['database'].value_counts().values, \\\n",
    "             names=df_data['database'].value_counts().index, \\\n",
    "             title='Data sources')\n",
    "\n",
    "fig.show(renderer=\"colab\")"
   ]
  },
  {
   "cell_type": "code",
   "execution_count": 8,
   "metadata": {
    "colab": {
     "base_uri": "https://localhost:8080/",
     "height": 542
    },
    "id": "P_k_WsFgcIg1",
    "outputId": "9161b9b8-5c84-4a49-f0c3-ab675cace208"
   },
   "outputs": [
    {
     "data": {
      "text/html": [
       "<html>\n",
       "<head><meta charset=\"utf-8\" /></head>\n",
       "<body>\n",
       "    <div>            <script src=\"https://cdnjs.cloudflare.com/ajax/libs/mathjax/2.7.5/MathJax.js?config=TeX-AMS-MML_SVG\"></script><script type=\"text/javascript\">if (window.MathJax && window.MathJax.Hub && window.MathJax.Hub.Config) {window.MathJax.Hub.Config({SVG: {font: \"STIX-Web\"}});}</script>                <script type=\"text/javascript\">window.PlotlyConfig = {MathJaxConfig: 'local'};</script>\n",
       "        <script src=\"https://cdn.plot.ly/plotly-2.12.1.min.js\"></script>                <div id=\"2389e371-becb-4554-a104-c6f11eb1d020\" class=\"plotly-graph-div\" style=\"height:525px; width:100%;\"></div>            <script type=\"text/javascript\">                                    window.PLOTLYENV=window.PLOTLYENV || {};                                    if (document.getElementById(\"2389e371-becb-4554-a104-c6f11eb1d020\")) {                    Plotly.newPlot(                        \"2389e371-becb-4554-a104-c6f11eb1d020\",                        [{\"alignmentgroup\":\"True\",\"bingroup\":\"x\",\"hovertemplate\":\"Experimental IC50 (log10)=%{x}<br>count=%{y}<extra></extra>\",\"legendgroup\":\"\",\"marker\":{\"color\":\"#636efa\",\"pattern\":{\"shape\":\"\"}},\"name\":\"\",\"offsetgroup\":\"\",\"orientation\":\"v\",\"showlegend\":false,\"x\":[6.5185573714977,5.05060999335509,5.7,5.85387196432176,7.69897000433602,4.48148606012211,6.92081875395238,7.34678748622466,7.74472749489669,8.0,9.04575749056068,9.42021640338319,6.0,7.70774392864352,7.89,6.52,9.13076828026902,6.79588001734408,6.57,9.07058107428571,7.17392519729917,5.3767507096021,9.20065945054642,5.03,5.6575773192,8.61978875828839,6.0,6.14,5.88605664769316,6.0,5.61,4.77469071827414,6.34678748622466,4.82390874094432,6.71,5.77,6.0,7.49,5.60205999132796,9.0,8.58502665202918,7.79588001734408,10.0,6.6999917974,6.82,8.52287874528034,4.95860731484177,5.1958605677,8.20901152491119,7.91721462968355,3.98716277529483,7.65757731917779,8.54975089168064,5.39794000867204,8.76955107862173,6.37,6.51,5.83,7.48004081924793,8.88605664769316,8.4,6.95,4.44009337496389,4.7,5.79588001734408,6.22184874961636,5.3467874862,7.0,8.69897000433602,10.0,5.76,8.15490195998574,8.85387196432176,8.096910013,2.55284196865778,5.5528419687,4.57,9.92081875395238,2.69897000433602,5.67366413907125,9.53760200210104,6.11,4.57,5.72124639904717,5.67778070526608,3.16749108729376,7.3767507096021,9.0,5.85,5.30102999566398,10.1549019599857,7.74472749489669,4.57,6.37882371822496,7.05,6.13076828026902,5.48148606012211,7.4089353929735,5.43,6.37,6.17,9.4089353929735,9.17392519729917,5.56863623584101,8.85387196432176,3.57024771999759,7.77,5.79588001734408,5.23657200643706,5.22,6.72124639904717,6.3010299957,6.54,8.21467016498923,5.19382002601611,5.4814860601,5.2006594505,7.96,3.89279003035213,8.01,5.37882371822496,5.63827216398241,7.04575749056068,5.82390874094432,6.2,5.07058107428571,5.62893213772826,5.72124639904717,7.22,6.1487416513,6.0,4.55284196865778,6.05,7.5003129173816,5.27,7.49,7.2839966564,6.31875876262441,5.51,5.25963731050576,6.92,6.0,5.66,3.90622821850127,5.77,3.73992861201493,4.22184874961636,4.68,5.04095860767891,9.30102999566398,4.08092190762393,8.11350927482752,8.30102999566398,5.79588001734408,5.09691001300806,6.04095860767891,6.5228787453,7.41,9.30102999566398,4.89,7.4,5.0,5.7,7.01,4.16494389827988,4.0604807474,5.61978875828839,5.9,7.77,5.48,4.39794000867204,7.34390179798717,6.65757731917779,5.54,4.53760200210104,4.32790214206428,7.6,8.38827669199266,5.86966623150499,6.72124639904717,7.82390874094432,7.61978875828839,6.33913452199613,8.3767507096021,7.39794000867204,7.27,6.86646109162978,7.0,5.32790214206428,9.0,5.43179827593301,4.01188715973165,6.98,4.65169513695184,6.34,6.0,7.24,5.15,8.63827216398241,4.82,7.92,6.45593195564972,7.19,7.4000078224,9.69897000433602,6.43889861635094,4.32790214206428,6.60205999132796,7.22184874961636,7.52287874528034,8.3010299957,6.15,8.07572071393812,5.79588001734408,9.0268721464003,4.95860731484177,6.59,8.0,8.65757731917779,5.34198860334289,4.8538719643,7.58502665202918,5.82390874094432,8.30102999566398,3.60730304674033,5.0,7.69897000433602,7.89,8.36653154442041,7.06,6.92,7.53760200210104,4.5497508917,7.76955107862173,7.09528445472132,7.60205999132796,8.6,8.05,8.80687540164554,4.40782324260413,6.11,5.23,5.64,5.77,7.72,3.98716277529483,8.31875876262441,3.3010299957,7.468521083,7.8,7.03,6.01322826573376,5.88605664769316,5.30102999566398,8.0,7.01,6.23657200643706,7.39794000867204,5.52,5.74472749489669,5.05207638016827,5.52287874528034,4.11594135290606,7.0,7.86966623150499,4.57,4.82390874094432,7.92081875395238,6.585026652,6.48148606012211,6.7,5.20760831050175,6.6,5.68,9.50863830616573,6.61,3.30102999566398,9.30102999566398,7.15490195998574,8.69897000433602,5.75870261289001,7.09691001300806,7.85387196432176,8.55284196865778,6.1804560645,5.09,6.11013827874181,7.92081875395238,4.26760624017703,8.1249387366083,4.69897000433602,7.67778070526608,8.0,3.81987412483595,7.57,6.18045606445813,8.43,7.56383735295924,5.28,6.2,5.02227639471115,5.76,9.09151498112135,6.77,7.33,5.52,6.52,4.4145392704915,9.22184874961636,7.30102999566398,5.82390874094432,7.1,8.85387196432176,6.0,4.82390874094432,9.39794000867204,7.63827216398241,5.61978875828839,4.93554201077308,3.72124639904717,6.4,7.36653154442041,4.74472749489669,8.79588001734408,4.61798295742513,5.2596373105,8.0,6.2839966563652,5.7,7.24872089601666,4.25963731050576,4.27164621797877,4.85387196432176,4.06550154875643,6.83,7.12,7.28735029837279,6.36,6.97,7.19382002601611,5.52287874528034,5.7958800173,6.8,8.05,6.74472749489669,4.50863830616573,7.79588001734408,7.0,7.92081875395238,4.3767507096021,7.7,8.0,6.92081875395238,5.79588001734408,7.97881070093006,8.69897000433602,3.2218487496,8.15,5.37365963262496,5.15,4.16115090926274,6.64,4.66554624884907,4.55,6.12,6.88605664769316,6.01,8.4089353929735,5.38510278396687,8.76955107862173,6.57,8.6989700043,7.82390874094432,4.6020599913,7.72124639904717,9.79588001734408,8.3,6.02,6.26,6.19,8.58502665202918,6.214670165,8.29,6.61978875828839,3.99913227846877,6.0,4.30102999566398,9.30102999566398,5.2,4.09691001300806,8.4,6.85387196432176,5.41,5.0,6.01,7.85387196432176,2.92081875395238,5.4,5.30102999566398,6.3767507096021,6.74472749489669,6.03,6.0,4.92081875395238,6.0,7.4089353929735,8.52287874528034,6.88605664769316,9.05551732784983,7.95860731484177,6.52,6.76,8.8,8.30102999566398,8.69897000433602,4.01502287358451,4.36653154442041,7.82,6.52,4.47495519296315,8.20065945054642,9.4089353929735,7.4000078224,5.54,2.23657200643706,6.76955107862173,5.51,5.13667713987954,5.920818754,6.11918640771921,6.50863830616573,7.13194363817696,3.1001794975729,6.01,6.91,6.31,8.35654732351381,9.43179827593301,5.79,6.57,5.22,4.48545224733971,5.01322826573376,8.0,10.301029995664,6.67778070526608,7.74,6.8,5.45593195564972,5.0,5.59,6.0,7.25,4.88,5.66,6.20065945054642,6.9,6.09151498112135,6.54363396687096,6.67162039656126,6.74472749489669,4.56863623584101,7.35654732351381,10.1366771398795,5.40340290437354,5.04575749056068,7.52287874528034,6.43179827593301,5.07058107428571,5.3,4.39469495385889,7.72,5.8,5.04575749056068,6.05,4.79,5.46,7.74472749489669,4.82390874094432,5.67,5.11918640771921,6.1,6.8,8.46852108295774,5.55284196865778,6.18708664335714,6.51,5.74,4.95860731484177,6.85,5.6649434806,4.8,7.0,6.09,6.25258819211358,8.0,8.0,6.49,6.01547268665621,6.39794000867204,4.0,7.22184874961636,8.6,4.23657200643706,6.60205999132796,7.92,7.59,4.69897000433602,9.39794000867204,7.4,9.22184874961636,5.44,6.8,6.85,6.8538719643,6.55,6.42021640338319,8.67778070526608,5.92081875395238,4.3767507096,7.6,6.58502665202918,4.4089353929735,4.01010543628123,5.76,6.30189945437661,7.42481215507234,3.75696195131371,8.30102999566398,5.00877392430751,6.19,6.77211329538633,5.7,5.12,5.8538719643,6.73142202811716,5.6,3.63827216398241,4.8,9.09691001300806,8.97061622231479,8.52287874528034,5.4948500217,7.79588001734408,10.0,6.05551732784983,6.2,7.8999742699,5.46852108295774,6.46852108295774,7.88605664769316,9.50863830616573,5.85,6.46,7.24412514432751,5.4,4.75448733218585,4.95078197732982,6.1,6.7695510786,7.0,4.10237290870956,5.16115090926274,3.8955128886876,8.05,5.66354026615147,5.94279048749221,9.60205999132796,5.27984069659404,8.30980391997149,8.79588001734408,7.39,6.45593195564972,7.7,6.53,7.22184874961636,6.69897000433602,6.67778070526608,8.09691001300806,7.38,8.39794000867204,7.2218487496,5.9586073148,7.1,7.35654732351381,8.0,8.0,3.920818754,6.59,8.36,9.69897000433602,8.99567862621736,9.53760200210104,8.52287874528034,8.0,9.0,6.13,8.08618614761628,4.89,7.66,8.22,5.95860731484177,4.65757731917779,6.04575749056068,6.95078197732982,5.0,8.39794000867204,4.60205999132796,6.97881070093006,6.18045606445813,6.71,6.3767507096,5.11918640771921,6.0,3.4034029044,7.01,6.23657200643706,7.92,8.0,3.79021698515148,6.78251605578609,5.9913998282,5.92081875395238,6.02227639471115,6.49485002168009,4.79588001734408,6.79588001734408,7.41,7.65169513695184,5.4559319556,4.52287874528034,5.33724216831843,6.66,7.74472749489669,5.9829666607,8.0457574906,6.9000087665,4.05898575629443,4.82390874094432,6.26,6.19,6.0,4.65757731917779,9.7447274949,9.16115090926274,8.23657200643706,4.04287180232319,6.22767829327708,7.9586073148,6.49,5.8,5.54515513999149,6.17,5.89962945488244,5.75,4.63827216398241,8.22184874961636,4.8538719643,8.69897000433602,4.40340290437354,7.69897000433602,6.0,4.95078197732982,6.52,7.08092190762393,6.14874165128092,7.61978875828839,6.67,5.51,8.32790214206428,7.24108810760203,9.1249387366083,7.65757731917779,8.95860731484177,7.92081875395238,7.3,5.72124639904717,5.50863830616573,6.3010299957,6.74,7.6,6.33724216831843,4.98716277529483,7.8999742699,6.4089353929735,8.63827216398241,6.1426675036,7.96,8.0,7.59,4.89,6.1674910873,6.82,5.15490195998574,7.73754891026957,7.60205999132796,7.48148606012211,5.59,6.8,7.85,6.32,5.81,10.0969100130081,5.6575773192,5.69897000433602,8.05,5.44977164694491,8.86646109162978,6.13076828026902,8.0,9.50863830616573,8.30102999566398,5.35654732351381,6.52,5.23657200643706,6.35654732351381,7.53760200210104,8.69897000433602,6.4,6.95,5.30102999566398,6.6,7.7999707334,8.1,8.0,3.0457574906,6.50723961097316,6.19382002601611,7.32,7.53760200210104,6.52,5.39794000867204,6.0,5.92081875395238,6.1079053973,7.20065945054642,8.6989700043,7.62,5.52,3.74933608053676,5.4001169279,5.16,8.6,8.9100948885606,6.79588001734408,5.21,4.85078088734462,6.36,4.66,9.85387196432176,6.17,6.72,6.63827216398241,4.61,8.92081875395238,6.76,6.09,7.69897000433602,8.52287874528034,9.27572413039921,6.4814860601,4.6,4.49485002168009,8.82390874094432,4.23210238398191,5.4894549898,7.0,5.6458915608526,10.4294570601181,8.0,5.65757731917779,8.3,5.33724216831843,7.96,8.0,5.30102999566398,8.55284196865778,5.5376020021,4.52432881167557,5.48,5.4,6.79588001734408,7.08092190762393,5.52,5.04575749056068,8.3,5.18775530319963,5.17,6.92,8.63827216398241,6.61978875828839,6.0,7.82,6.88605664769316,7.92081875395238,5.46852108295774,7.7851561519523,7.20760831050175,4.64016451766011,7.0,5.92081875395238,6.03621217265444,7.14874165128092,5.1951793213,8.4,8.43,6.58502665202918,7.63827216398241,5.14266750356873,7.2839966564,7.32,6.97,6.44369749923271,4.86012091359876,5.52,8.82,5.0,6.76955107862173,5.03621217265444,5.10790539730952,6.21467016498923,7.61978875828839,4.17457388223218,4.56,5.12291674334935,6.24412514432751,8.15,5.69897000433602,5.69,6.79860287567955,6.0,4.55,6.62,7.1,7.46218090492673,5.67778070526608,6.99567862621736,8.39794000867204,5.2,7.62,4.92,7.3767507096021,6.77,7.52,7.74232142513082,6.1157712304,5.31875876262441,8.38721614328026,6.17,5.88605664769316,5.6777807053,6.69897000433602,6.1674910873,10.0,5.30102999566398,4.80687540164554,7.7,4.23657200643706,9.0,5.57,6.8,4.7,5.85387196432176,7.69897000433602,6.88605664769316,7.72124639904717,7.49485002168009,5.57348873863543,5.50863830616573,6.0,5.09691001300806,6.0809219076,5.63827216398241,6.92081875395238,4.90657831483777,6.21467016498923,6.32790214206428,6.52,7.92,5.63827216398241,6.63827216398241,5.25,5.48148606012211,5.28,7.14266750356873,5.89,7.04575749056068,9.09691001300806,5.45593195564972,8.91364016932525,6.7851561519523,6.45593195564972,9.58502665202918,7.89,9.67778070526608,4.98296666070122,5.6073030467,8.5228787453,7.98716277529483,5.36031433875732,5.74,9.43179827593301,6.24412514432751,6.65757731917779,9.43179827593301,6.50863830616573,7.44369749923271,5.24,6.0,6.05,4.48148606012211,5.52,6.4,7.32790214206428,7.06,7.63827216398241,7.95860731484177,7.09691001300806,5.0,6.53,5.58502665202918,6.39,7.54,6.0,5.56863623584101,6.95860731484177,5.29328221766324,5.52,6.58502665202918,7.2,9.0457574906,7.34103515733557,6.80966830182971,6.63827216398241,6.51712641639125,6.0,6.45967052520913,7.33724216831843,4.9,7.74,7.51,6.44369749923271,4.52287874528034,9.39794000867204,6.79588001734408,6.49485002168009,6.27,5.42365864979421,5.52,7.76955107862173,7.48945498979339,7.14,6.88,5.35654732351381,6.88605664769316,5.51,5.96,5.46,4.6197887583,4.8,5.4999996787,5.52,9.0,4.8507808873,7.88941028970075,7.52,7.23,7.69897000433602,6.38721614328026,9.0,6.3,4.76447155309245,5.82390874094432,6.468521083,5.63827216398241,8.39794000867204,5.52,5.82390874094432,6.87,6.45,5.05,5.2006594505,8.69897000433602,7.27572413039921,7.04,5.6777807053,5.7,7.35654732351381,6.6,8.0,6.23657200643706,8.61978875828839,5.82390874094432,8.51,7.5528419687,5.50863830616573,6.0,5.4,7.00877392430751,7.2,4.55,4.14593698813358,8.57,5.62342304294349,6.05551732784983,6.64,5.25963731050576,8.69897000433602,6.8,4.60205999132796,4.89619627904404,7.26760624017703,6.09151498112135,6.46,3.04575749056068,7.30102999566398,6.8,8.69897000433602,5.50863830616573,7.56863623584101,7.95860731484177,7.12,4.9,6.48148606012211,5.50863830616573,5.9,8.4,5.7,6.34,9.21467016498923,6.29,7.7281583935,6.55284196865778,6.23,5.78941397509484,7.1444808443322,6.6675615400844,4.6575773192,7.88605664769316,6.3767507096021,5.3767507096021,8.74472749489669,7.56863623584101,8.0,7.52287874528034,7.7,6.95,7.22184874961636,6.33724216831843,8.7,6.78781239559604,7.0,7.30102999566398,4.72124639904717,6.0,7.0,5.44,7.74,4.76955107862173,6.20760831050175,6.42,5.25963731050576,5.72,8.52287874528034,6.11350927482752,7.63544900464603,6.12,5.82390874094432,6.22621355501881,8.52,5.3372421683,5.52,6.32,6.38,7.44009337496389,6.36653154442041,7.18,5.52,7.16749108729376,7.00877392430751,7.18442225167573,6.36,7.30102999566398,8.85,5.8153085692,6.49485002168009,5.09691001300806,7.0,5.52,7.6989700043,4.44369749923271,5.52,4.72,7.60205999132796,7.0,8.92,4.15242734085789,5.2676062402,7.34,6.54,8.3665315444,5.51,5.3,6.0268721464003,7.96,8.15490195998574,6.22,4.83,5.4000001861,6.52,6.09691001300806,5.08990945440593,5.49,6.25963731050576,9.60205999132796,9.30980391997149,5.4,7.26760624017703,7.29,6.47886191629596,6.0,5.7,5.36,5.82,5.4559319556,4.54821356447571,4.96329127843011,6.74472749489669,5.09691001300806,5.39794000867204,6.86012091359876,4.82390874094432,7.69897000433602,5.0,5.37,6.72,6.3979400087,9.45593195564972,9.76955107862173,4.9586073148,5.42,3.88840147511961,7.0,9.1249387366083,9.72124639904717,6.77,8.76955107862173,5.0486624812,4.0,6.76955107862173,6.0,3.90308998699194,7.27572413039921,8.74,8.32330639037513,5.62,3.99439055463972,5.13,5.3279021421,4.8,5.88,5.27572413039921,5.99225222199926,6.56,4.88605664769316,7.52,4.09691001300806,7.35,4.68,6.92,5.24260397120698,5.71896663275227,6.13667713987954,8.42021640338319,4.23210238398191,7.8096683018,5.82,5.2441251443,7.29,7.82390874094432,3.75202673363819,4.1804560645,6.17134010346468,5.52287874528034,6.60205999132796,9.88605664769316,8.09151498112135,7.48148606012211,4.52287874528034,4.5086383062,7.60205999132796,6.82,6.26,9.43179827593301,7.28,4.20065945054642,6.83,6.02282532397981,7.15490195998574,6.63,5.44,5.3,6.7,5.3767507096021,5.92081875395238,4.04575749056068,5.64,5.6,6.95467702121334,8.0457574906,3.73048705578208,5.7,6.3,7.22184874961636,7.74714696902011,5.4559319556,5.76,4.52287874528034,7.30102999566398,5.76955107862173,7.1426675036,7.8860566477,7.2839966563652,4.64,4.9100948885606,9.39794000867204,4.6,7.04575749056068,4.0915149811,6.15,7.22914798835786,6.26760624017703,5.34678748622466,6.18976748200492,6.48,6.96,7.1249387366,4.85387196432176,6.89279003035213,7.45593195564972,3.55284196865778,5.0],\"xaxis\":\"x\",\"yaxis\":\"y\",\"type\":\"histogram\"}],                        {\"template\":{\"data\":{\"histogram2dcontour\":[{\"type\":\"histogram2dcontour\",\"colorbar\":{\"outlinewidth\":0,\"ticks\":\"\"},\"colorscale\":[[0.0,\"#0d0887\"],[0.1111111111111111,\"#46039f\"],[0.2222222222222222,\"#7201a8\"],[0.3333333333333333,\"#9c179e\"],[0.4444444444444444,\"#bd3786\"],[0.5555555555555556,\"#d8576b\"],[0.6666666666666666,\"#ed7953\"],[0.7777777777777778,\"#fb9f3a\"],[0.8888888888888888,\"#fdca26\"],[1.0,\"#f0f921\"]]}],\"choropleth\":[{\"type\":\"choropleth\",\"colorbar\":{\"outlinewidth\":0,\"ticks\":\"\"}}],\"histogram2d\":[{\"type\":\"histogram2d\",\"colorbar\":{\"outlinewidth\":0,\"ticks\":\"\"},\"colorscale\":[[0.0,\"#0d0887\"],[0.1111111111111111,\"#46039f\"],[0.2222222222222222,\"#7201a8\"],[0.3333333333333333,\"#9c179e\"],[0.4444444444444444,\"#bd3786\"],[0.5555555555555556,\"#d8576b\"],[0.6666666666666666,\"#ed7953\"],[0.7777777777777778,\"#fb9f3a\"],[0.8888888888888888,\"#fdca26\"],[1.0,\"#f0f921\"]]}],\"heatmap\":[{\"type\":\"heatmap\",\"colorbar\":{\"outlinewidth\":0,\"ticks\":\"\"},\"colorscale\":[[0.0,\"#0d0887\"],[0.1111111111111111,\"#46039f\"],[0.2222222222222222,\"#7201a8\"],[0.3333333333333333,\"#9c179e\"],[0.4444444444444444,\"#bd3786\"],[0.5555555555555556,\"#d8576b\"],[0.6666666666666666,\"#ed7953\"],[0.7777777777777778,\"#fb9f3a\"],[0.8888888888888888,\"#fdca26\"],[1.0,\"#f0f921\"]]}],\"heatmapgl\":[{\"type\":\"heatmapgl\",\"colorbar\":{\"outlinewidth\":0,\"ticks\":\"\"},\"colorscale\":[[0.0,\"#0d0887\"],[0.1111111111111111,\"#46039f\"],[0.2222222222222222,\"#7201a8\"],[0.3333333333333333,\"#9c179e\"],[0.4444444444444444,\"#bd3786\"],[0.5555555555555556,\"#d8576b\"],[0.6666666666666666,\"#ed7953\"],[0.7777777777777778,\"#fb9f3a\"],[0.8888888888888888,\"#fdca26\"],[1.0,\"#f0f921\"]]}],\"contourcarpet\":[{\"type\":\"contourcarpet\",\"colorbar\":{\"outlinewidth\":0,\"ticks\":\"\"}}],\"contour\":[{\"type\":\"contour\",\"colorbar\":{\"outlinewidth\":0,\"ticks\":\"\"},\"colorscale\":[[0.0,\"#0d0887\"],[0.1111111111111111,\"#46039f\"],[0.2222222222222222,\"#7201a8\"],[0.3333333333333333,\"#9c179e\"],[0.4444444444444444,\"#bd3786\"],[0.5555555555555556,\"#d8576b\"],[0.6666666666666666,\"#ed7953\"],[0.7777777777777778,\"#fb9f3a\"],[0.8888888888888888,\"#fdca26\"],[1.0,\"#f0f921\"]]}],\"surface\":[{\"type\":\"surface\",\"colorbar\":{\"outlinewidth\":0,\"ticks\":\"\"},\"colorscale\":[[0.0,\"#0d0887\"],[0.1111111111111111,\"#46039f\"],[0.2222222222222222,\"#7201a8\"],[0.3333333333333333,\"#9c179e\"],[0.4444444444444444,\"#bd3786\"],[0.5555555555555556,\"#d8576b\"],[0.6666666666666666,\"#ed7953\"],[0.7777777777777778,\"#fb9f3a\"],[0.8888888888888888,\"#fdca26\"],[1.0,\"#f0f921\"]]}],\"mesh3d\":[{\"type\":\"mesh3d\",\"colorbar\":{\"outlinewidth\":0,\"ticks\":\"\"}}],\"scatter\":[{\"fillpattern\":{\"fillmode\":\"overlay\",\"size\":10,\"solidity\":0.2},\"type\":\"scatter\"}],\"parcoords\":[{\"type\":\"parcoords\",\"line\":{\"colorbar\":{\"outlinewidth\":0,\"ticks\":\"\"}}}],\"scatterpolargl\":[{\"type\":\"scatterpolargl\",\"marker\":{\"colorbar\":{\"outlinewidth\":0,\"ticks\":\"\"}}}],\"bar\":[{\"error_x\":{\"color\":\"#2a3f5f\"},\"error_y\":{\"color\":\"#2a3f5f\"},\"marker\":{\"line\":{\"color\":\"#E5ECF6\",\"width\":0.5},\"pattern\":{\"fillmode\":\"overlay\",\"size\":10,\"solidity\":0.2}},\"type\":\"bar\"}],\"scattergeo\":[{\"type\":\"scattergeo\",\"marker\":{\"colorbar\":{\"outlinewidth\":0,\"ticks\":\"\"}}}],\"scatterpolar\":[{\"type\":\"scatterpolar\",\"marker\":{\"colorbar\":{\"outlinewidth\":0,\"ticks\":\"\"}}}],\"histogram\":[{\"marker\":{\"pattern\":{\"fillmode\":\"overlay\",\"size\":10,\"solidity\":0.2}},\"type\":\"histogram\"}],\"scattergl\":[{\"type\":\"scattergl\",\"marker\":{\"colorbar\":{\"outlinewidth\":0,\"ticks\":\"\"}}}],\"scatter3d\":[{\"type\":\"scatter3d\",\"line\":{\"colorbar\":{\"outlinewidth\":0,\"ticks\":\"\"}},\"marker\":{\"colorbar\":{\"outlinewidth\":0,\"ticks\":\"\"}}}],\"scattermapbox\":[{\"type\":\"scattermapbox\",\"marker\":{\"colorbar\":{\"outlinewidth\":0,\"ticks\":\"\"}}}],\"scatterternary\":[{\"type\":\"scatterternary\",\"marker\":{\"colorbar\":{\"outlinewidth\":0,\"ticks\":\"\"}}}],\"scattercarpet\":[{\"type\":\"scattercarpet\",\"marker\":{\"colorbar\":{\"outlinewidth\":0,\"ticks\":\"\"}}}],\"carpet\":[{\"aaxis\":{\"endlinecolor\":\"#2a3f5f\",\"gridcolor\":\"white\",\"linecolor\":\"white\",\"minorgridcolor\":\"white\",\"startlinecolor\":\"#2a3f5f\"},\"baxis\":{\"endlinecolor\":\"#2a3f5f\",\"gridcolor\":\"white\",\"linecolor\":\"white\",\"minorgridcolor\":\"white\",\"startlinecolor\":\"#2a3f5f\"},\"type\":\"carpet\"}],\"table\":[{\"cells\":{\"fill\":{\"color\":\"#EBF0F8\"},\"line\":{\"color\":\"white\"}},\"header\":{\"fill\":{\"color\":\"#C8D4E3\"},\"line\":{\"color\":\"white\"}},\"type\":\"table\"}],\"barpolar\":[{\"marker\":{\"line\":{\"color\":\"#E5ECF6\",\"width\":0.5},\"pattern\":{\"fillmode\":\"overlay\",\"size\":10,\"solidity\":0.2}},\"type\":\"barpolar\"}],\"pie\":[{\"automargin\":true,\"type\":\"pie\"}]},\"layout\":{\"autotypenumbers\":\"strict\",\"colorway\":[\"#636efa\",\"#EF553B\",\"#00cc96\",\"#ab63fa\",\"#FFA15A\",\"#19d3f3\",\"#FF6692\",\"#B6E880\",\"#FF97FF\",\"#FECB52\"],\"font\":{\"color\":\"#2a3f5f\"},\"hovermode\":\"closest\",\"hoverlabel\":{\"align\":\"left\"},\"paper_bgcolor\":\"white\",\"plot_bgcolor\":\"#E5ECF6\",\"polar\":{\"bgcolor\":\"#E5ECF6\",\"angularaxis\":{\"gridcolor\":\"white\",\"linecolor\":\"white\",\"ticks\":\"\"},\"radialaxis\":{\"gridcolor\":\"white\",\"linecolor\":\"white\",\"ticks\":\"\"}},\"ternary\":{\"bgcolor\":\"#E5ECF6\",\"aaxis\":{\"gridcolor\":\"white\",\"linecolor\":\"white\",\"ticks\":\"\"},\"baxis\":{\"gridcolor\":\"white\",\"linecolor\":\"white\",\"ticks\":\"\"},\"caxis\":{\"gridcolor\":\"white\",\"linecolor\":\"white\",\"ticks\":\"\"}},\"coloraxis\":{\"colorbar\":{\"outlinewidth\":0,\"ticks\":\"\"}},\"colorscale\":{\"sequential\":[[0.0,\"#0d0887\"],[0.1111111111111111,\"#46039f\"],[0.2222222222222222,\"#7201a8\"],[0.3333333333333333,\"#9c179e\"],[0.4444444444444444,\"#bd3786\"],[0.5555555555555556,\"#d8576b\"],[0.6666666666666666,\"#ed7953\"],[0.7777777777777778,\"#fb9f3a\"],[0.8888888888888888,\"#fdca26\"],[1.0,\"#f0f921\"]],\"sequentialminus\":[[0.0,\"#0d0887\"],[0.1111111111111111,\"#46039f\"],[0.2222222222222222,\"#7201a8\"],[0.3333333333333333,\"#9c179e\"],[0.4444444444444444,\"#bd3786\"],[0.5555555555555556,\"#d8576b\"],[0.6666666666666666,\"#ed7953\"],[0.7777777777777778,\"#fb9f3a\"],[0.8888888888888888,\"#fdca26\"],[1.0,\"#f0f921\"]],\"diverging\":[[0,\"#8e0152\"],[0.1,\"#c51b7d\"],[0.2,\"#de77ae\"],[0.3,\"#f1b6da\"],[0.4,\"#fde0ef\"],[0.5,\"#f7f7f7\"],[0.6,\"#e6f5d0\"],[0.7,\"#b8e186\"],[0.8,\"#7fbc41\"],[0.9,\"#4d9221\"],[1,\"#276419\"]]},\"xaxis\":{\"gridcolor\":\"white\",\"linecolor\":\"white\",\"ticks\":\"\",\"title\":{\"standoff\":15},\"zerolinecolor\":\"white\",\"automargin\":true,\"zerolinewidth\":2},\"yaxis\":{\"gridcolor\":\"white\",\"linecolor\":\"white\",\"ticks\":\"\",\"title\":{\"standoff\":15},\"zerolinecolor\":\"white\",\"automargin\":true,\"zerolinewidth\":2},\"scene\":{\"xaxis\":{\"backgroundcolor\":\"#E5ECF6\",\"gridcolor\":\"white\",\"linecolor\":\"white\",\"showbackground\":true,\"ticks\":\"\",\"zerolinecolor\":\"white\",\"gridwidth\":2},\"yaxis\":{\"backgroundcolor\":\"#E5ECF6\",\"gridcolor\":\"white\",\"linecolor\":\"white\",\"showbackground\":true,\"ticks\":\"\",\"zerolinecolor\":\"white\",\"gridwidth\":2},\"zaxis\":{\"backgroundcolor\":\"#E5ECF6\",\"gridcolor\":\"white\",\"linecolor\":\"white\",\"showbackground\":true,\"ticks\":\"\",\"zerolinecolor\":\"white\",\"gridwidth\":2}},\"shapedefaults\":{\"line\":{\"color\":\"#2a3f5f\"}},\"annotationdefaults\":{\"arrowcolor\":\"#2a3f5f\",\"arrowhead\":0,\"arrowwidth\":1},\"geo\":{\"bgcolor\":\"white\",\"landcolor\":\"#E5ECF6\",\"subunitcolor\":\"white\",\"showland\":true,\"showlakes\":true,\"lakecolor\":\"white\"},\"title\":{\"x\":0.05},\"mapbox\":{\"style\":\"light\"}}},\"xaxis\":{\"anchor\":\"y\",\"domain\":[0.0,1.0],\"title\":{\"text\":\"Experimental IC50 (log10)\"}},\"yaxis\":{\"anchor\":\"x\",\"domain\":[0.0,1.0],\"title\":{\"text\":\"count\"}},\"legend\":{\"tracegroupgap\":0},\"margin\":{\"t\":60},\"barmode\":\"relative\"},                        {\"responsive\": true}                    ).then(function(){\n",
       "                            \n",
       "var gd = document.getElementById('2389e371-becb-4554-a104-c6f11eb1d020');\n",
       "var x = new MutationObserver(function (mutations, observer) {{\n",
       "        var display = window.getComputedStyle(gd).display;\n",
       "        if (!display || display === 'none') {{\n",
       "            console.log([gd, 'removed!']);\n",
       "            Plotly.purge(gd);\n",
       "            observer.disconnect();\n",
       "        }}\n",
       "}});\n",
       "\n",
       "// Listen for the removal of the full notebook cells\n",
       "var notebookContainer = gd.closest('#notebook-container');\n",
       "if (notebookContainer) {{\n",
       "    x.observe(notebookContainer, {childList: true});\n",
       "}}\n",
       "\n",
       "// Listen for the clearing of the current output cell\n",
       "var outputEl = gd.closest('.output');\n",
       "if (outputEl) {{\n",
       "    x.observe(outputEl, {childList: true});\n",
       "}}\n",
       "\n",
       "                        })                };                            </script>        </div>\n",
       "</body>\n",
       "</html>"
      ]
     },
     "metadata": {},
     "output_type": "display_data"
    }
   ],
   "source": [
    "target = \"Experimental IC50 (log10)\"\n",
    "fig = px.histogram(df_data, x=target)\n",
    "fig.show(renderer=\"colab\")"
   ]
  },
  {
   "cell_type": "code",
   "execution_count": 9,
   "metadata": {
    "colab": {
     "base_uri": "https://localhost:8080/",
     "height": 542
    },
    "id": "E3P_qZGdcoZs",
    "outputId": "1cdefa72-5fe6-448a-bdb4-05b2d9104f29"
   },
   "outputs": [
    {
     "data": {
      "text/html": [
       "<html>\n",
       "<head><meta charset=\"utf-8\" /></head>\n",
       "<body>\n",
       "    <div>            <script src=\"https://cdnjs.cloudflare.com/ajax/libs/mathjax/2.7.5/MathJax.js?config=TeX-AMS-MML_SVG\"></script><script type=\"text/javascript\">if (window.MathJax && window.MathJax.Hub && window.MathJax.Hub.Config) {window.MathJax.Hub.Config({SVG: {font: \"STIX-Web\"}});}</script>                <script type=\"text/javascript\">window.PlotlyConfig = {MathJaxConfig: 'local'};</script>\n",
       "        <script src=\"https://cdn.plot.ly/plotly-2.12.1.min.js\"></script>                <div id=\"b9b7952b-9175-4461-b591-8a466b5402ca\" class=\"plotly-graph-div\" style=\"height:525px; width:100%;\"></div>            <script type=\"text/javascript\">                                    window.PLOTLYENV=window.PLOTLYENV || {};                                    if (document.getElementById(\"b9b7952b-9175-4461-b591-8a466b5402ca\")) {                    Plotly.newPlot(                        \"b9b7952b-9175-4461-b591-8a466b5402ca\",                        [{\"name\":\"MolLogP\",\"x\":[5.3234,6.2006,3.2039,3.3881,-0.2256,0.2508,2.6108,4.6999,4.3472,-2.30793,3.2538,3.3631,6.0939,4.0968,3.79448,4.51218,3.4142,4.71462,3.99138,3.1318,3.7665,1.7077,3.7339,5.7002,1.2167,3.0886,2.9506,4.29668,-3.0556,3.28044,6.2579,3.7427,4.06122,3.90382,5.25628,2.5099,4.2542,5.275,6.2006,6.4892,1.15197,0.2577,2.0367,2.0016,6.01378,1.30587,2.39756,3.9155,4.49384,5.475,5.47048,7.76862,5.79062,-2.5171,1.90387,3.4952,3.8065,4.57098,0.2295,2.4414,5.14568,6.2282,4.48004,6.2085,3.6598,3.7297,5.1079,6.7677,0.76057,3.46808,6.5264,3.4504,2.5718,7.236,-3.6842,2.6677,7.2065,2.80257,-1.9884,5.87582,2.016,5.3929,4.8921,0.9621,2.9896,-2.3714,4.4064,5.3916,4.7941,0.3129,4.9127,3.6848,5.1527,5.282,6.0662,5.4722,2.87187,4.128,3.5996,3.1814,6.7339,3.4523,3.257,4.9612,2.18592,4.02362,5.0309,3.3103,0.8084,3.70902,3.6057,4.79712,6.2109,4.7024,3.70992,3.53384,0.8457,4.7079,4.10732,6.7214,3.8822,4.99878,2.96477,-1.5263,4.54372,6.20828,2.4151,-0.7825,5.988,3.405,2.70756,4.17312,4.7634,3.3072,5.7481,3.65602,4.9699,7.918,7.01022,1.2395,6.22314,2.6505,5.2715,1.3837,2.4051,4.16272,-1.2643,1.9875,2.8935,-0.9861,4.0355,10.37712,2.9505,3.99282,4.62632,7.88822,5.9893,3.7762,2.4864,3.94608,6.513,6.11648,4.72106,7.13656,5.86634,0.4509,5.7501,2.40774,5.2925,4.8054,5.4951,3.0432,4.5427,5.03602,5.87598,5.3426,5.8653,4.8334,5.9382,7.0979,6.8745,6.1719,4.5828,2.0023,3.9663,5.8574,1.8699,10.6717,4.03562,2.01114,3.0062,1.30884,4.6213,2.0972,7.2359,8.0323,4.7722,2.0324,5.20614,5.11718,4.7079,-2.7507,5.2125,2.63085,2.5793,4.9148,5.94098,5.1175,4.2128,4.2892,7.38632,8.22096,3.169,4.9322,3.1119,3.31622,2.1107,1.9583,1.55967,6.2474,3.318,2.4007,0.7887,3.68172,5.21592,6.8691,4.6764,5.8568,5.9291,5.1943,5.5957,0.3798,3.05534,8.62412,3.008,3.2607,4.5256,4.8341,4.3392,4.9599,5.1893,5.49648,6.2524,2.7078,3.79448,4.63812,0.5957,0.67612,4.6136,8.6618,6.7105,7.6252,4.9344,-0.0146,7.2238,6.5376,5.7954,0.2644,6.0404,4.5403,4.4786,5.79458,0.7285,4.23706,0.9842,3.1002,2.03697,-4.038,3.8635,5.1566,6.537,4.4063,4.462,4.1144,3.95352,2.619,1.2305,4.1586,3.3398,2.44277,4.8897,1.2201,2.87472,-4.1875,4.294,6.5832,3.1012,4.2631,3.3991,9.8332,3.26452,2.8907,2.3484,6.46584,8.2634,1.57107,3.8402,4.39602,5.3465,3.53014,3.9582,7.9607,1.508,1.0518,9.4053,4.79492,4.4198,1.82314,4.1329,4.0517,-0.0502,8.8244,-3.14793,4.5343,3.57294,2.00882,3.6238,4.0517,4.9685,5.47048,-0.3395,2.0039,1.1664,2.88332,2.9984,4.41794,5.5817,5.3308,4.8214,2.9215,-4.78563,3.6177,3.7691,1.74282,3.2851,6.3241,4.1349,4.5064,7.6926,3.4377,5.1271,3.41044,2.1422,6.6947,3.2572,3.54908,3.3733,4.415,5.1529,5.19608,6.4917,4.45778,3.4316,1.6105,-0.3458,2.9836,0.5259,7.9854,4.85072,2.6914,3.3992,6.6457,0.2392,6.8647,8.477,2.6437,4.5843,1.0239,5.78062,4.23632,4.0584,7.0779,6.3369,6.9047,7.81132,2.857,4.46098,6.53726,6.9309,6.62706,2.7193,4.2488,7.0093,5.3114,1.82314,5.4424,4.6927,4.7682,5.6083,-3.9155,5.7891,9.3213,6.363,3.63767,8.1666,4.2128,0.22817,2.3136,3.43522,2.7424,3.9979,4.2138,5.6145,0.3642,3.987,2.71797,3.4196,4.7253,4.6859,2.2261,6.8841,4.7974,6.4527,1.66567,3.4605,3.7164,5.38522,6.346,7.2445,1.82314,1.9544,1.8086,2.75917,4.48694,1.70957,5.0484,6.25898,5.43472,4.3493,-0.7278,0.57437,2.1519,3.1641,2.119,6.52142,7.0506,3.12222,2.8852,2.6995,5.49772,-0.6613,4.6483,1.29017,0.6255,3.336,-6.2743,6.3894,6.37272,2.9029,5.0226,5.5789,5.7236,6.06232,4.8446,5.5838,5.5054,4.9697,2.5318,1.6431,1.26377,3.22,-3.12593,4.0083,2.24877,6.9436,3.85272,3.6664,5.4166,4.5446,7.1496,1.387,7.168,2.56506,-2.53523,6.4592,3.8059,4.5161,3.01532,1.68027,7.0723,1.9938,2.22497,4.404,4.2172,1.7011,4.55454,7.7865,3.9209,3.976,5.3915,8.5351,1.17297,5.6145,7.32732,5.0116,1.6166,6.1143,6.2736,3.35792,5.1404,4.2692,5.0406,4.39508,3.4281,1.48644,5.8909,5.1557,1.6252,0.85237,5.6066,-1.96573,4.40758,6.008,2.4934,4.3706,2.2663,3.73182,2.0513,2.6741,3.40702,3.16904,4.5013,1.6639,7.34914,3.3561,5.3234,4.0377,0.0756,4.6126,2.60697,10.0308,0.04816,2.46334,4.8151,3.9744,3.8439,4.043,4.0259,0.57392,2.6483,4.0329,2.1473,3.206,3.6394,3.2608,6.5801,3.81412,2.5912,4.2604,4.8554,2.40132,3.0908,6.35872,6.30484,3.2035,4.42124,3.2584,4.5835,5.5705,2.8844,5.6843,5.55308,4.4396,2.18854,5.53848,5.4722,4.88738,2.7209,4.3868,3.0432,-5.5631,9.2845,-1.51153,4.4254,3.1353,4.6678,2.8183,2.50427,2.9541,5.0788,2.5222,2.1924,2.4576,4.4206,4.7707,1.7438,2.1634,0.9971,6.919,5.61418,2.3955,3.072,3.9494,2.58187,4.1914,4.3986,7.2816,2.1366,0.7552,4.1691,7.2151,5.1293,7.0535,2.8343,0.44467,2.8343,1.81707,6.3357,-2.9415,4.1176,4.0255,3.629,1.2283,4.2403,1.3495,3.3985,5.9206,4.57296,3.12118,2.919,5.1436,4.5389,3.63462,5.0911,-6.35246,5.2904,7.674,4.52912,4.078,1.7963,4.1906,3.4068,5.0323,4.6406,3.402,7.0779,2.6438,1.82314,3.1742,1.7613,3.55542,2.75154,1.5652,3.67922,6.2692,2.8745,3.01732,4.958,5.024,3.6473,2.4134,3.0201,4.86112,2.8716,6.5202,4.9513,-3.5524,2.6814,2.10734,2.55394,5.38912,3.9868,5.1513,6.3959,-3.6287,8.7369,3.2459,4.9514,3.7907,4.07452,3.1371,5.1033,5.1276,3.3244,5.2894,3.27828,4.5835,5.1643,2.7183,5.5585,5.54432,4.17482,3.7821,2.76777,6.02704,1.4414,1.7877,4.70128,3.45412,3.4513,3.6429,4.00782,5.0665,4.1678,1.7576,-4.23403,3.6159,6.75724,5.26952,7.0937,8.08084,4.9033,4.67848,4.83242,5.18098,7.4589,4.3868,0.4916,3.89974,4.3137,2.80723,4.5755,6.3886,6.0307,4.72617,2.0829,4.05372,3.3542,2.5613,7.099,1.36407,5.98598,3.5683,3.79448,0.5994,0.5401,4.4107,6.49482,6.7922,-3.14613,7.0736,5.67528,6.1143,-1.16843,3.1489,3.6643,7.38632,4.0384,4.313,1.83104,3.6261,6.7205,6.7214,4.2761,2.4053,2.4051,8.38384,6.69572,6.0118,4.43398,4.8384,4.45288,0.17176,4.3308,4.4754,5.05734,6.1654,4.6868,2.8908,2.579,3.6862,3.254,3.9586,2.5872,3.8125,4.09884,7.4315,5.30684,4.17642,5.4498,2.353,7.5493,-2.0967,7.3879,3.5989,2.72847,1.7527,6.6383,2.9298,4.7,1.2567,2.285,5.0761,4.3561,1.091,3.92264,5.7854,4.4418,5.2163,-2.2189,3.7229,4.06766,6.123,5.1697,5.29952,1.96117,3.7423,0.32356,3.3699,5.7381,5.8358,-2.05863,2.6247,3.46274,3.3148,6.3972,3.12927,2.2435,4.2319,4.9699,5.5044,6.537,3.1798,3.8369,6.772,7.7544,1.99734,1.9391,0.92296,5.0122,3.0981,3.98234,1.82314,2.325,2.0122,2.378,4.6379,3.13612,3.983,4.0351,4.5925,3.1061,5.3423,5.3308,3.8956,3.85544,2.3597,0.97387,3.9004,8.9146,7.7987,1.6303,5.8441,2.6777,4.2757,4.9566,1.4484,2.3683,6.3981,5.111,6.1025,-0.67733,1.6195,3.0519,4.858,4.7432,6.6962,5.38062,0.9971,2.5768,6.1229,5.2442,4.6134,3.3272,2.1727,-2.05983,3.93372,3.7792,4.5757,3.8497,-2.8117,3.2551,1.8189,5.5343,4.1224,3.8736,3.4835,4.6983,7.7037,5.88,-0.7931,5.9381,2.9453,1.2684,3.46157,4.5387,4.0254,-3.2541,2.7433,5.2064,2.9993,0.97387,3.4098,3.11134,1.8955,3.2384,2.6481,4.432,5.09892,4.3783,6.54586,4.5488,-1.76113,2.4733,3.4605,4.4434,4.5187,6.2085,-1.0372,5.5838,6.7039,4.2977,2.9888,7.5218,4.3846,4.1096,3.09617,2.85227,6.07468,4.8913,6.09704,3.1942,9.4585,-4.0578,-2.4527,4.9947,6.991,4.0126,3.4377,5.3598,0.31777,4.7502,2.2892,3.0961,-0.74233,3.9457,4.95712,0.93266,6.62886,5.2859,8.8499,2.6038,5.0899,4.2755,7.0349,4.7146,4.89272,0.51917,6.06862,0.41737,5.7309,9.6529,5.3583,2.4647,1.78762,4.9501,2.5768,7.0407,2.78402,2.2539,4.82187,5.2552,3.615,6.4113,1.5185,5.26952,3.6307,1.48997,0.50047,1.51014,5.27812,4.6558,2.88494,3.806,2.33638,3.0503,2.28227,4.57772,5.7106,3.17082,3.3647,2.692,2.81092,3.605,5.4985,3.5877,4.72106,4.5733,4.4706,4.9117,-2.6273,4.117,3.24252,6.0818,1.973,4.2067,6.5264,2.90202,5.60222,5.9201,5.73178,2.6609,6.485,4.333,2.4733,8.79924,2.975,2.39127,4.322,6.0756,4.4251,4.1161,3.70042,4.5671,-0.6896,4.5124,6.31864,4.7511,5.1767,3.59,2.90628,5.9908,3.44554,4.2344,1.7929,7.1586,5.53136,3.76784,4.8689,4.1048,5.6509,5.8858,2.8249,5.49772,7.21432,4.206,4.3811,3.2134,3.8013,0.6412,-0.7825,4.7428,5.09032,5.0332,3.4904,5.20162,5.4046,2.952,4.67394,7.7662,0.65967,0.98517,2.12927,4.45268,5.6685,4.9611,3.98462,6.4112,4.8731,7.4147,5.54192,2.38332,4.7526,5.09032,1.52534,2.2722,5.8776,3.8824,0.20127,5.55754,6.93634,5.5868,4.7444,6.1221,4.68952,6.3479,7.8238,5.416,2.75652,5.5343,3.9402,3.2257,4.3272,7.0503,4.1591,2.383,3.97292,4.5573,5.07024,2.3999,-0.1303,5.5746,5.96892,4.6866,3.0864,3.5476,4.7566,4.4826,5.5762,5.5988,6.2618,5.7576,4.9737,6.9085,3.79448,3.323,5.7534,4.82658,3.9103,6.25162,5.55882,3.5756,5.226,4.42572,1.88197,4.2916,2.5205,0.50864,4.8374,3.0854,6.0873,1.7666,6.5492,2.5768,1.0464,3.566,4.2797,2.1636,2.1728,3.2133,1.65227,2.46787,3.31962,3.9176,8.6071,7.1161,3.7519,3.4736,1.5006,2.7838,2.4051,4.1351,6.43132,2.05147,0.7644,5.7468,6.0052,3.9028,3.6132,3.3177,4.3495,2.29257,3.72742,5.61418,4.842,5.59398,3.4022,4.9545,3.64642,4.5961,5.1513,5.2855,1.11637,4.8822,6.68458,6.33842,0.9635,7.1019,3.4129,6.738,5.497,4.757,2.4733,4.50942,4.5623,4.35172,2.5055,4.1798,6.9391,4.3897,1.3026,1.95974,1.45857,4.73322,1.4747,2.04042,6.69092,5.6835,5.6392,2.23702,1.0846,6.45544,6.109,2.207,5.64618,2.7788,5.7432,3.1338,4.6868,9.2279,2.6995,4.07626,6.53374,3.1845,3.4195,4.6648,4.9168,6.3035,0.4695,6.2898,5.1127,4.0103,2.8522,1.8468,1.1778,2.4311,3.2721,0.7091,4.5111,-1.8735,2.9839,6.1312,4.5344,4.343,5.1295,0.8229,5.7318,3.3772,3.25102,6.2129,0.65339,4.7248,3.2137,4.526,2.447,6.6849,3.0356,7.08348,5.0141,-0.48343,0.0648,3.32072],\"type\":\"histogram\",\"xaxis\":\"x\",\"yaxis\":\"y\"},{\"name\":\"Acceptor_Count\",\"x\":[3,3,2,4,8,8,6,6,6,7,7,6,2,6,6,3,5,3,3,5,5,3,6,3,4,5,9,2,9,5,5,4,3,5,3,5,4,7,3,4,4,5,7,6,3,4,9,3,5,3,6,8,5,13,5,4,7,4,4,6,5,4,7,4,3,4,2,1,4,6,4,6,7,4,9,1,7,3,8,2,4,5,6,3,7,9,6,8,2,7,7,5,3,7,4,4,3,6,5,6,4,8,7,4,6,5,5,2,3,1,5,0,6,5,4,4,2,5,4,4,6,3,4,7,6,2,6,7,6,3,3,4,4,4,4,4,7,0,2,5,4,4,4,4,5,6,12,4,3,9,5,4,5,4,4,6,2,8,6,3,2,1,3,3,7,3,6,4,5,1,3,5,4,3,0,2,4,5,4,7,6,6,5,6,4,5,4,6,5,7,5,1,4,6,4,1,7,3,6,2,5,7,6,3,6,2,0,5,3,5,4,8,6,6,6,5,6,4,5,2,1,4,7,6,5,6,2,2,5,2,3,8,4,9,7,10,1,6,7,3,3,3,4,4,6,5,4,1,1,7,2,6,5,9,4,3,4,8,3,4,4,1,5,6,4,3,5,9,5,6,1,3,3,6,7,6,7,5,7,4,6,6,4,8,2,4,6,6,4,4,1,6,4,2,7,4,2,8,5,4,4,4,5,4,7,4,1,0,6,5,6,7,7,5,1,6,5,5,5,6,4,5,6,5,5,2,5,7,0,7,8,7,4,7,6,1,4,8,3,8,3,3,4,3,4,8,6,4,11,0,6,2,7,6,7,7,3,6,5,4,2,3,5,3,8,7,4,6,4,6,7,4,7,8,6,3,5,2,4,5,8,5,6,6,0,1,8,6,4,13,2,8,3,3,7,3,4,3,4,7,3,7,1,5,4,4,5,4,6,4,3,2,6,3,5,4,7,4,1,0,7,6,3,1,4,5,3,5,3,4,6,5,5,6,5,3,6,5,4,3,4,2,4,6,7,11,2,4,2,1,5,1,5,4,4,7,2,3,6,4,6,7,2,4,2,5,10,6,6,3,5,2,3,7,2,3,6,5,4,4,7,4,2,7,4,3,7,3,4,4,4,7,1,4,5,6,1,3,6,3,5,6,5,4,7,3,2,4,8,2,7,3,3,3,6,4,4,6,7,1,5,3,1,4,3,3,6,7,5,3,4,6,4,4,1,9,2,7,3,6,5,6,1,4,5,2,6,6,6,6,5,7,3,8,6,4,6,5,3,2,5,1,3,0,3,4,5,5,4,5,9,7,6,4,6,4,3,4,6,4,5,3,1,2,9,4,4,5,6,5,5,5,5,5,4,5,2,4,5,4,6,6,1,3,4,3,4,6,7,3,6,3,6,3,1,5,3,3,3,8,5,2,5,5,10,6,6,7,6,2,4,9,7,6,2,4,4,0,4,8,3,4,4,2,4,7,5,3,6,3,5,5,5,6,7,2,9,2,7,0,6,3,3,4,8,6,6,5,5,6,4,5,6,7,8,4,5,2,2,4,7,5,4,4,4,6,3,3,5,3,4,2,9,5,7,12,4,6,1,2,6,3,8,2,1,3,4,7,2,2,5,7,2,2,1,6,4,6,3,2,4,1,3,6,4,2,6,7,4,9,1,0,1,4,3,4,4,4,3,0,3,1,4,6,5,5,8,3,3,7,6,5,7,4,6,3,4,2,7,7,3,6,8,6,2,3,4,3,9,1,3,6,7,3,9,3,5,5,5,5,4,3,6,2,4,5,4,2,4,7,5,3,3,2,8,4,5,6,3,4,1,6,4,3,4,2,3,6,2,7,6,1,5,2,2,7,4,6,8,4,3,6,0,6,4,7,5,7,7,3,3,3,4,2,5,3,5,4,3,2,1,5,3,8,5,10,3,5,3,5,3,6,5,4,6,3,3,3,7,4,2,0,3,5,5,8,5,5,5,5,14,4,7,5,5,5,3,3,3,0,7,2,4,4,4,3,9,7,5,5,7,4,3,6,6,2,3,3,6,6,3,5,6,4,5,6,6,4,10,3,6,2,4,11,8,6,4,4,0,2,7,3,7,7,13,5,2,2,7,2,5,6,8,5,6,3,7,7,4,3,4,4,4,4,7,5,4,4,2,5,3,6,4,3,9,5,4,3,3,2,3,4,6,0,5,1,7,7,5,7,2,5,4,5,3,6,3,3,4,5,4,1,6,7,3,4,3,2,4,1,8,6,5,8,4,2,4,3,5,2,3,3,5,4,4,8,9,4,2,3,4,5,2,8,5,8,5,6,5,8,4,5,4,4,4,3,4,4,6,6,4,4,2,3,4,4,5,1,6,6,6,6,5,7,7,7,4,5,0,8,5,5,5,1,2,1,4,3,3,2,4,5,5,5,6,7,4,8,6,2,1,3,3,4,5,6,5,4,7,5,6,3,7,4,2,5,4,4,2,5,7,3,3,4,4,7,5,2,5,2,5,5,3,2,6,4,3,4,4,3,5,5,1,5,5,5,3,7,2,4,5,4,5,4,3,5,6,7,4,7,4,3,5,6,3,4,4,6,6,1,5,3,2,5,6,4,6,2,4,5,5,4,5,5,6,2,3,5,4,3,5,4,4,3,1,3,6,2,1,4,5,3,4,5,2,4,5,3,4,6,4,3,4,4,6,5,5,6,3,2,6,8,2,4,1,4,5,7,2,7,4,4,4,7,6,7,5,2,5,6,5,3,7,6,5,2,5,4,9,7,2,4,6,1,6,7,3,6,1,4,7,5,5,6,5,3,5,0,8,5,4,5],\"type\":\"histogram\",\"xaxis\":\"x2\",\"yaxis\":\"y2\"},{\"name\":\"Acceptor_Count\",\"x\":[3,3,2,4,8,8,6,6,6,7,7,6,2,6,6,3,5,3,3,5,5,3,6,3,4,5,9,2,9,5,5,4,3,5,3,5,4,7,3,4,4,5,7,6,3,4,9,3,5,3,6,8,5,13,5,4,7,4,4,6,5,4,7,4,3,4,2,1,4,6,4,6,7,4,9,1,7,3,8,2,4,5,6,3,7,9,6,8,2,7,7,5,3,7,4,4,3,6,5,6,4,8,7,4,6,5,5,2,3,1,5,0,6,5,4,4,2,5,4,4,6,3,4,7,6,2,6,7,6,3,3,4,4,4,4,4,7,0,2,5,4,4,4,4,5,6,12,4,3,9,5,4,5,4,4,6,2,8,6,3,2,1,3,3,7,3,6,4,5,1,3,5,4,3,0,2,4,5,4,7,6,6,5,6,4,5,4,6,5,7,5,1,4,6,4,1,7,3,6,2,5,7,6,3,6,2,0,5,3,5,4,8,6,6,6,5,6,4,5,2,1,4,7,6,5,6,2,2,5,2,3,8,4,9,7,10,1,6,7,3,3,3,4,4,6,5,4,1,1,7,2,6,5,9,4,3,4,8,3,4,4,1,5,6,4,3,5,9,5,6,1,3,3,6,7,6,7,5,7,4,6,6,4,8,2,4,6,6,4,4,1,6,4,2,7,4,2,8,5,4,4,4,5,4,7,4,1,0,6,5,6,7,7,5,1,6,5,5,5,6,4,5,6,5,5,2,5,7,0,7,8,7,4,7,6,1,4,8,3,8,3,3,4,3,4,8,6,4,11,0,6,2,7,6,7,7,3,6,5,4,2,3,5,3,8,7,4,6,4,6,7,4,7,8,6,3,5,2,4,5,8,5,6,6,0,1,8,6,4,13,2,8,3,3,7,3,4,3,4,7,3,7,1,5,4,4,5,4,6,4,3,2,6,3,5,4,7,4,1,0,7,6,3,1,4,5,3,5,3,4,6,5,5,6,5,3,6,5,4,3,4,2,4,6,7,11,2,4,2,1,5,1,5,4,4,7,2,3,6,4,6,7,2,4,2,5,10,6,6,3,5,2,3,7,2,3,6,5,4,4,7,4,2,7,4,3,7,3,4,4,4,7,1,4,5,6,1,3,6,3,5,6,5,4,7,3,2,4,8,2,7,3,3,3,6,4,4,6,7,1,5,3,1,4,3,3,6,7,5,3,4,6,4,4,1,9,2,7,3,6,5,6,1,4,5,2,6,6,6,6,5,7,3,8,6,4,6,5,3,2,5,1,3,0,3,4,5,5,4,5,9,7,6,4,6,4,3,4,6,4,5,3,1,2,9,4,4,5,6,5,5,5,5,5,4,5,2,4,5,4,6,6,1,3,4,3,4,6,7,3,6,3,6,3,1,5,3,3,3,8,5,2,5,5,10,6,6,7,6,2,4,9,7,6,2,4,4,0,4,8,3,4,4,2,4,7,5,3,6,3,5,5,5,6,7,2,9,2,7,0,6,3,3,4,8,6,6,5,5,6,4,5,6,7,8,4,5,2,2,4,7,5,4,4,4,6,3,3,5,3,4,2,9,5,7,12,4,6,1,2,6,3,8,2,1,3,4,7,2,2,5,7,2,2,1,6,4,6,3,2,4,1,3,6,4,2,6,7,4,9,1,0,1,4,3,4,4,4,3,0,3,1,4,6,5,5,8,3,3,7,6,5,7,4,6,3,4,2,7,7,3,6,8,6,2,3,4,3,9,1,3,6,7,3,9,3,5,5,5,5,4,3,6,2,4,5,4,2,4,7,5,3,3,2,8,4,5,6,3,4,1,6,4,3,4,2,3,6,2,7,6,1,5,2,2,7,4,6,8,4,3,6,0,6,4,7,5,7,7,3,3,3,4,2,5,3,5,4,3,2,1,5,3,8,5,10,3,5,3,5,3,6,5,4,6,3,3,3,7,4,2,0,3,5,5,8,5,5,5,5,14,4,7,5,5,5,3,3,3,0,7,2,4,4,4,3,9,7,5,5,7,4,3,6,6,2,3,3,6,6,3,5,6,4,5,6,6,4,10,3,6,2,4,11,8,6,4,4,0,2,7,3,7,7,13,5,2,2,7,2,5,6,8,5,6,3,7,7,4,3,4,4,4,4,7,5,4,4,2,5,3,6,4,3,9,5,4,3,3,2,3,4,6,0,5,1,7,7,5,7,2,5,4,5,3,6,3,3,4,5,4,1,6,7,3,4,3,2,4,1,8,6,5,8,4,2,4,3,5,2,3,3,5,4,4,8,9,4,2,3,4,5,2,8,5,8,5,6,5,8,4,5,4,4,4,3,4,4,6,6,4,4,2,3,4,4,5,1,6,6,6,6,5,7,7,7,4,5,0,8,5,5,5,1,2,1,4,3,3,2,4,5,5,5,6,7,4,8,6,2,1,3,3,4,5,6,5,4,7,5,6,3,7,4,2,5,4,4,2,5,7,3,3,4,4,7,5,2,5,2,5,5,3,2,6,4,3,4,4,3,5,5,1,5,5,5,3,7,2,4,5,4,5,4,3,5,6,7,4,7,4,3,5,6,3,4,4,6,6,1,5,3,2,5,6,4,6,2,4,5,5,4,5,5,6,2,3,5,4,3,5,4,4,3,1,3,6,2,1,4,5,3,4,5,2,4,5,3,4,6,4,3,4,4,6,5,5,6,3,2,6,8,2,4,1,4,5,7,2,7,4,4,4,7,6,7,5,2,5,6,5,3,7,6,5,2,5,4,9,7,2,4,6,1,6,7,3,6,1,4,7,5,5,6,5,3,5,0,8,5,4,5],\"type\":\"histogram\",\"xaxis\":\"x3\",\"yaxis\":\"y3\"},{\"name\":\"Donor_Count\",\"x\":[2,2,0,1,7,7,4,2,2,9,2,2,1,2,2,2,3,3,1,4,3,2,2,1,4,2,3,2,9,2,2,1,3,4,2,3,3,5,2,2,7,4,4,1,3,5,5,4,3,2,6,3,2,11,6,3,5,2,5,2,2,1,7,3,1,4,4,3,4,3,0,3,5,0,10,1,2,4,9,3,4,1,1,3,4,10,2,3,3,5,3,2,4,3,2,1,4,2,4,6,3,2,2,2,6,2,4,0,4,1,3,3,3,3,4,0,0,2,3,1,2,2,4,7,1,4,2,6,3,3,1,2,3,4,2,1,4,4,0,3,1,3,3,2,4,2,8,3,2,8,3,4,3,3,3,4,1,5,4,3,3,2,1,1,4,5,3,1,4,2,2,2,1,3,1,2,2,2,2,3,3,4,2,3,2,4,4,5,5,3,4,5,2,2,2,0,3,4,4,2,2,7,4,2,6,2,1,5,2,2,2,8,3,3,3,5,5,5,6,4,2,3,6,3,5,2,3,4,2,3,1,5,1,4,2,6,2,5,2,3,3,0,3,2,2,5,4,2,3,4,1,2,2,8,4,2,2,7,3,4,2,1,3,3,4,3,4,9,0,2,1,1,4,2,2,5,8,2,0,4,2,2,6,9,2,2,4,2,2,4,3,2,5,4,6,4,3,5,2,0,4,2,4,3,5,1,4,5,2,3,6,6,9,3,3,4,3,3,2,6,5,3,6,6,3,4,4,3,0,5,10,2,3,3,3,2,3,4,3,2,2,1,4,2,3,5,3,5,3,3,2,4,0,4,6,3,2,2,4,4,2,1,3,1,3,3,3,6,1,4,5,2,4,7,4,3,2,1,4,3,2,3,1,2,5,5,2,3,3,14,2,2,1,7,5,2,5,2,2,4,1,4,3,6,2,3,3,2,2,3,1,2,4,5,4,6,2,1,4,5,6,2,2,2,4,3,0,5,4,5,7,4,3,4,3,0,5,4,3,3,4,4,5,5,2,13,4,1,2,3,2,3,3,3,2,3,3,2,3,4,3,9,2,4,4,3,4,3,3,4,4,4,1,9,1,2,2,4,5,2,2,5,3,3,0,3,4,2,2,1,3,5,3,3,2,4,3,0,3,2,0,3,3,0,2,2,1,4,5,4,9,3,1,5,4,5,3,2,2,1,4,2,2,6,3,2,2,6,4,5,3,5,3,3,3,9,5,3,5,4,3,3,1,2,4,2,2,1,3,2,6,4,1,8,3,1,1,2,3,2,4,2,1,5,4,1,2,4,2,2,9,5,8,2,2,2,2,4,3,2,6,1,2,4,2,5,5,1,2,2,3,3,3,4,1,3,0,3,4,2,2,3,1,2,4,2,4,3,8,2,5,0,5,3,2,4,2,1,4,3,2,2,5,3,14,0,2,4,2,3,2,3,3,2,3,2,1,5,2,5,3,0,2,2,4,4,2,2,4,2,3,2,4,1,5,3,9,0,3,5,3,4,2,0,9,2,3,2,1,6,3,2,3,2,3,2,2,3,2,3,3,4,1,2,2,4,4,1,5,4,4,2,3,3,4,12,2,6,3,3,6,4,3,2,1,1,2,4,3,3,6,2,3,4,4,3,4,3,4,1,4,3,1,2,4,3,2,2,3,10,4,2,3,6,2,2,2,3,5,5,3,2,1,2,2,4,8,0,1,4,2,4,7,3,2,3,3,2,3,2,4,4,4,4,2,3,2,1,8,3,1,1,7,1,3,4,3,2,5,3,3,2,3,4,4,4,2,3,3,8,3,1,4,2,3,4,5,5,2,4,3,8,3,3,2,2,3,3,2,4,5,1,2,1,1,1,2,3,7,0,3,2,5,4,3,2,3,5,5,2,4,3,2,4,3,2,5,5,3,3,0,4,2,6,3,3,2,2,1,3,1,8,4,4,2,2,4,0,7,3,3,1,2,3,3,9,5,4,3,3,11,0,2,2,2,2,3,2,3,1,7,4,2,4,4,2,4,8,1,2,2,5,3,4,3,0,3,3,4,3,1,4,9,3,4,3,2,3,8,2,3,3,3,3,3,3,4,5,2,3,8,4,4,9,8,2,4,2,3,3,8,2,5,2,7,5,5,6,0,4,5,3,2,2,3,3,3,6,4,4,4,5,1,3,6,3,3,0,0,2,2,3,4,1,2,3,4,6,5,4,3,1,2,4,3,3,4,2,3,5,3,0,3,3,3,4,1,2,4,2,8,2,1,2,5,2,0,3,5,5,1,3,1,2,3,8,2,4,4,2,1,1,3,2,5,3,3,3,2,3,2,1,1,3,0,0,0,1,2,2,1,3,4,3,4,3,2,2,4,6,6,3,4,3,5,2,1,3,2,3,4,5,6,2,3,3,3,4,0,3,2,2,3,4,4,3,2,2,6,4,2,5,1,1,2,3,5,1,6,2,2,5,3,3,2,1,3,3,4,1,7,3,2,3,0,4,2,1,3,1,2,3,2,3,2,2,2,3,1,3,4,2,2,5,6,3,4,8,3,2,3,4,2,3,2,2,3,4,4,1,4,4,5,2,1,4,0,4,5,0,4,1,3,5,5,1,4,2,2,3,3,6,4,2,2,3,1,3,1,2,3,1,5,1,1,2,6,2,0,1,3,2,3,5,2,1,3,4,3,2,3,1,5,2,5,4,4,2,2,2,5,8,4,4,1,2,1,5,2,5,3,1,2,1,3,3,2,1,4,4,2,4,6,3,5,2,2,1,3,9,2,1,2,0,3,6,3,4,1,3,7,4,1,2,4,2,2,1,3,7,4,2],\"type\":\"histogram\",\"xaxis\":\"x4\",\"yaxis\":\"y4\"},{\"name\":\"Donor_Count\",\"x\":[2,2,0,1,7,7,4,2,2,9,2,2,1,2,2,2,3,3,1,4,3,2,2,1,4,2,3,2,9,2,2,1,3,4,2,3,3,5,2,2,7,4,4,1,3,5,5,4,3,2,6,3,2,11,6,3,5,2,5,2,2,1,7,3,1,4,4,3,4,3,0,3,5,0,10,1,2,4,9,3,4,1,1,3,4,10,2,3,3,5,3,2,4,3,2,1,4,2,4,6,3,2,2,2,6,2,4,0,4,1,3,3,3,3,4,0,0,2,3,1,2,2,4,7,1,4,2,6,3,3,1,2,3,4,2,1,4,4,0,3,1,3,3,2,4,2,8,3,2,8,3,4,3,3,3,4,1,5,4,3,3,2,1,1,4,5,3,1,4,2,2,2,1,3,1,2,2,2,2,3,3,4,2,3,2,4,4,5,5,3,4,5,2,2,2,0,3,4,4,2,2,7,4,2,6,2,1,5,2,2,2,8,3,3,3,5,5,5,6,4,2,3,6,3,5,2,3,4,2,3,1,5,1,4,2,6,2,5,2,3,3,0,3,2,2,5,4,2,3,4,1,2,2,8,4,2,2,7,3,4,2,1,3,3,4,3,4,9,0,2,1,1,4,2,2,5,8,2,0,4,2,2,6,9,2,2,4,2,2,4,3,2,5,4,6,4,3,5,2,0,4,2,4,3,5,1,4,5,2,3,6,6,9,3,3,4,3,3,2,6,5,3,6,6,3,4,4,3,0,5,10,2,3,3,3,2,3,4,3,2,2,1,4,2,3,5,3,5,3,3,2,4,0,4,6,3,2,2,4,4,2,1,3,1,3,3,3,6,1,4,5,2,4,7,4,3,2,1,4,3,2,3,1,2,5,5,2,3,3,14,2,2,1,7,5,2,5,2,2,4,1,4,3,6,2,3,3,2,2,3,1,2,4,5,4,6,2,1,4,5,6,2,2,2,4,3,0,5,4,5,7,4,3,4,3,0,5,4,3,3,4,4,5,5,2,13,4,1,2,3,2,3,3,3,2,3,3,2,3,4,3,9,2,4,4,3,4,3,3,4,4,4,1,9,1,2,2,4,5,2,2,5,3,3,0,3,4,2,2,1,3,5,3,3,2,4,3,0,3,2,0,3,3,0,2,2,1,4,5,4,9,3,1,5,4,5,3,2,2,1,4,2,2,6,3,2,2,6,4,5,3,5,3,3,3,9,5,3,5,4,3,3,1,2,4,2,2,1,3,2,6,4,1,8,3,1,1,2,3,2,4,2,1,5,4,1,2,4,2,2,9,5,8,2,2,2,2,4,3,2,6,1,2,4,2,5,5,1,2,2,3,3,3,4,1,3,0,3,4,2,2,3,1,2,4,2,4,3,8,2,5,0,5,3,2,4,2,1,4,3,2,2,5,3,14,0,2,4,2,3,2,3,3,2,3,2,1,5,2,5,3,0,2,2,4,4,2,2,4,2,3,2,4,1,5,3,9,0,3,5,3,4,2,0,9,2,3,2,1,6,3,2,3,2,3,2,2,3,2,3,3,4,1,2,2,4,4,1,5,4,4,2,3,3,4,12,2,6,3,3,6,4,3,2,1,1,2,4,3,3,6,2,3,4,4,3,4,3,4,1,4,3,1,2,4,3,2,2,3,10,4,2,3,6,2,2,2,3,5,5,3,2,1,2,2,4,8,0,1,4,2,4,7,3,2,3,3,2,3,2,4,4,4,4,2,3,2,1,8,3,1,1,7,1,3,4,3,2,5,3,3,2,3,4,4,4,2,3,3,8,3,1,4,2,3,4,5,5,2,4,3,8,3,3,2,2,3,3,2,4,5,1,2,1,1,1,2,3,7,0,3,2,5,4,3,2,3,5,5,2,4,3,2,4,3,2,5,5,3,3,0,4,2,6,3,3,2,2,1,3,1,8,4,4,2,2,4,0,7,3,3,1,2,3,3,9,5,4,3,3,11,0,2,2,2,2,3,2,3,1,7,4,2,4,4,2,4,8,1,2,2,5,3,4,3,0,3,3,4,3,1,4,9,3,4,3,2,3,8,2,3,3,3,3,3,3,4,5,2,3,8,4,4,9,8,2,4,2,3,3,8,2,5,2,7,5,5,6,0,4,5,3,2,2,3,3,3,6,4,4,4,5,1,3,6,3,3,0,0,2,2,3,4,1,2,3,4,6,5,4,3,1,2,4,3,3,4,2,3,5,3,0,3,3,3,4,1,2,4,2,8,2,1,2,5,2,0,3,5,5,1,3,1,2,3,8,2,4,4,2,1,1,3,2,5,3,3,3,2,3,2,1,1,3,0,0,0,1,2,2,1,3,4,3,4,3,2,2,4,6,6,3,4,3,5,2,1,3,2,3,4,5,6,2,3,3,3,4,0,3,2,2,3,4,4,3,2,2,6,4,2,5,1,1,2,3,5,1,6,2,2,5,3,3,2,1,3,3,4,1,7,3,2,3,0,4,2,1,3,1,2,3,2,3,2,2,2,3,1,3,4,2,2,5,6,3,4,8,3,2,3,4,2,3,2,2,3,4,4,1,4,4,5,2,1,4,0,4,5,0,4,1,3,5,5,1,4,2,2,3,3,6,4,2,2,3,1,3,1,2,3,1,5,1,1,2,6,2,0,1,3,2,3,5,2,1,3,4,3,2,3,1,5,2,5,4,4,2,2,2,5,8,4,4,1,2,1,5,2,5,3,1,2,1,3,3,2,1,4,4,2,4,6,3,5,2,2,1,3,9,2,1,2,0,3,6,3,4,1,3,7,4,1,2,4,2,2,1,3,7,4,2],\"type\":\"histogram\",\"xaxis\":\"x5\",\"yaxis\":\"y5\"},{\"name\":\"NumRotatableBonds\",\"x\":[5,7,2,3,6,7,8,9,9,9,10,11,4,10,4,8,9,5,4,8,9,5,9,7,3,7,9,5,10,9,9,2,5,7,8,1,5,8,8,7,6,8,12,5,5,5,14,3,7,5,15,18,9,23,12,5,7,6,6,7,4,6,18,11,2,8,4,6,9,8,2,8,12,9,16,2,14,5,14,5,7,5,7,3,7,16,7,14,6,7,9,8,7,8,6,6,10,7,7,7,10,11,10,8,8,7,5,3,10,2,8,5,6,12,12,5,0,4,5,7,9,5,7,6,5,4,7,4,8,3,4,5,9,2,5,5,6,4,4,7,4,7,4,3,3,7,6,6,2,5,7,18,14,13,5,12,6,12,9,8,8,10,4,4,11,4,10,5,9,5,9,7,3,5,3,3,5,8,9,12,11,11,5,8,4,13,2,16,9,8,9,1,2,8,8,5,13,3,8,10,4,14,6,3,8,2,4,7,6,5,7,7,7,10,10,13,3,9,10,4,6,5,4,7,13,2,4,8,6,4,5,11,4,16,10,23,4,8,12,7,6,2,4,2,4,13,7,1,2,16,5,12,9,12,6,4,6,7,5,5,8,6,6,7,7,6,5,17,3,8,4,4,8,3,9,11,15,11,11,5,11,7,8,8,6,8,9,10,2,18,6,10,9,16,16,6,3,16,8,5,6,6,7,5,16,4,7,1,10,8,5,16,6,8,6,11,9,8,9,15,3,4,7,9,5,4,8,9,3,9,14,8,6,6,9,4,12,5,5,12,5,4,5,6,3,13,7,2,6,7,11,11,10,10,14,10,1,7,12,6,3,6,5,4,13,9,6,7,6,13,8,7,11,15,14,6,4,4,7,5,9,7,4,10,1,6,11,7,4,27,5,13,2,7,16,6,8,3,6,9,2,3,6,5,7,6,9,7,8,7,7,4,4,5,9,4,9,5,12,1,10,8,3,3,6,7,2,13,4,9,11,10,6,2,4,5,7,8,3,6,5,5,4,9,10,23,6,7,5,6,8,6,4,9,4,8,7,5,8,4,8,16,6,5,6,6,11,8,6,16,5,5,4,15,7,7,5,6,5,8,6,10,6,12,5,5,16,2,4,5,11,10,6,11,9,11,6,5,8,8,7,10,5,0,7,6,3,9,11,7,9,6,5,10,6,9,5,7,7,2,8,3,0,22,5,5,9,14,7,10,9,12,8,5,5,20,10,0,3,11,9,10,0,7,8,5,6,5,8,8,7,11,5,5,8,5,2,10,6,4,5,8,3,1,7,6,8,8,9,7,7,16,13,2,2,8,4,5,9,2,8,3,1,6,14,8,9,4,8,4,7,9,10,5,4,8,6,7,3,2,6,9,4,2,7,2,6,11,15,6,8,3,11,6,1,6,8,3,8,9,8,1,8,8,12,3,12,8,10,4,6,9,7,8,1,7,4,1,8,6,5,4,2,3,6,9,5,5,6,3,2,7,7,5,17,6,9,1,8,1,9,5,8,3,17,14,7,6,6,14,9,8,9,9,9,2,10,5,3,5,5,7,5,4,6,13,1,3,10,7,7,3,5,8,10,21,10,3,6,6,7,5,10,3,5,6,9,9,9,5,9,7,5,8,3,7,13,8,5,6,7,6,3,4,7,0,8,8,6,9,13,7,6,8,2,7,7,8,8,3,1,2,7,10,8,3,29,2,4,10,4,8,10,8,11,10,8,4,10,10,4,9,9,7,2,1,7,5,20,6,2,6,4,7,13,7,7,8,12,6,3,4,7,6,8,7,8,4,5,7,5,4,5,5,8,7,7,12,6,9,4,8,6,1,3,4,6,10,4,6,8,4,6,4,5,6,5,7,12,3,7,7,1,5,7,8,3,10,7,2,7,5,7,6,13,6,12,5,5,6,8,12,6,8,13,16,2,8,6,8,5,11,4,8,9,8,6,3,8,1,7,4,8,5,6,7,10,13,6,8,24,3,10,8,11,8,3,6,6,2,5,8,5,4,5,2,11,8,4,10,10,5,7,7,7,2,2,4,12,9,5,9,12,4,9,7,7,11,16,2,8,6,2,15,5,9,5,7,5,5,27,9,16,14,6,9,4,6,7,8,8,10,13,7,9,8,14,11,4,5,16,3,8,7,13,9,6,5,7,6,6,16,4,3,12,5,1,2,3,3,4,5,10,4,6,6,8,10,5,7,7,4,4,5,3,9,6,3,6,11,6,2,8,9,6,5,4,6,9,5,10,10,6,10,7,4,2,5,15,12,4,4,4,6,4,7,9,5,7,8,5,6,9,4,11,10,5,14,6,7,6,5,6,6,4,6,3,5,6,9,5,6,8,6,14,11,8,5,7,5,5,11,11,9,7,5,5,6,3,9,8,6,6,6,8,6,6,8,3,4,6,3,7,11,9,9,3,10,7,6,8,9,3,8,8,13,16,4,12,8,9,11,10,8,1,7,5,5,7,5,5,7,6,10,3,8,6,2,5,4,7,5,6,4,4,8,2,4,4,6,11,8,6,10,9,10,3,8,6,6,13,5,6,1,4,5,11,11,0,6,4,3,10,7,6,10,3,9,10,1,3,5,7,9,10,5,8,1,7,8,8,9,12,4,9,7,3,4,3,7,5,5,6,4,6,6,5,6,5,6,8,3,4,7,4,4,3,4,6,9,3,3,6,8,12,8,11,8,7,1,11,9,7,9,4,2,5,8,4,16,3,5,4,11,5,8,5,5,9,6,7,9,7,3,9,3,3,2,13,16,6,5,9,5,0,12,6,8,1,4,8,7,5,8,9,5,2,5,8,11,8,5],\"type\":\"histogram\",\"xaxis\":\"x6\",\"yaxis\":\"y6\"}],                        {\"template\":{\"data\":{\"histogram2dcontour\":[{\"type\":\"histogram2dcontour\",\"colorbar\":{\"outlinewidth\":0,\"ticks\":\"\"},\"colorscale\":[[0.0,\"#0d0887\"],[0.1111111111111111,\"#46039f\"],[0.2222222222222222,\"#7201a8\"],[0.3333333333333333,\"#9c179e\"],[0.4444444444444444,\"#bd3786\"],[0.5555555555555556,\"#d8576b\"],[0.6666666666666666,\"#ed7953\"],[0.7777777777777778,\"#fb9f3a\"],[0.8888888888888888,\"#fdca26\"],[1.0,\"#f0f921\"]]}],\"choropleth\":[{\"type\":\"choropleth\",\"colorbar\":{\"outlinewidth\":0,\"ticks\":\"\"}}],\"histogram2d\":[{\"type\":\"histogram2d\",\"colorbar\":{\"outlinewidth\":0,\"ticks\":\"\"},\"colorscale\":[[0.0,\"#0d0887\"],[0.1111111111111111,\"#46039f\"],[0.2222222222222222,\"#7201a8\"],[0.3333333333333333,\"#9c179e\"],[0.4444444444444444,\"#bd3786\"],[0.5555555555555556,\"#d8576b\"],[0.6666666666666666,\"#ed7953\"],[0.7777777777777778,\"#fb9f3a\"],[0.8888888888888888,\"#fdca26\"],[1.0,\"#f0f921\"]]}],\"heatmap\":[{\"type\":\"heatmap\",\"colorbar\":{\"outlinewidth\":0,\"ticks\":\"\"},\"colorscale\":[[0.0,\"#0d0887\"],[0.1111111111111111,\"#46039f\"],[0.2222222222222222,\"#7201a8\"],[0.3333333333333333,\"#9c179e\"],[0.4444444444444444,\"#bd3786\"],[0.5555555555555556,\"#d8576b\"],[0.6666666666666666,\"#ed7953\"],[0.7777777777777778,\"#fb9f3a\"],[0.8888888888888888,\"#fdca26\"],[1.0,\"#f0f921\"]]}],\"heatmapgl\":[{\"type\":\"heatmapgl\",\"colorbar\":{\"outlinewidth\":0,\"ticks\":\"\"},\"colorscale\":[[0.0,\"#0d0887\"],[0.1111111111111111,\"#46039f\"],[0.2222222222222222,\"#7201a8\"],[0.3333333333333333,\"#9c179e\"],[0.4444444444444444,\"#bd3786\"],[0.5555555555555556,\"#d8576b\"],[0.6666666666666666,\"#ed7953\"],[0.7777777777777778,\"#fb9f3a\"],[0.8888888888888888,\"#fdca26\"],[1.0,\"#f0f921\"]]}],\"contourcarpet\":[{\"type\":\"contourcarpet\",\"colorbar\":{\"outlinewidth\":0,\"ticks\":\"\"}}],\"contour\":[{\"type\":\"contour\",\"colorbar\":{\"outlinewidth\":0,\"ticks\":\"\"},\"colorscale\":[[0.0,\"#0d0887\"],[0.1111111111111111,\"#46039f\"],[0.2222222222222222,\"#7201a8\"],[0.3333333333333333,\"#9c179e\"],[0.4444444444444444,\"#bd3786\"],[0.5555555555555556,\"#d8576b\"],[0.6666666666666666,\"#ed7953\"],[0.7777777777777778,\"#fb9f3a\"],[0.8888888888888888,\"#fdca26\"],[1.0,\"#f0f921\"]]}],\"surface\":[{\"type\":\"surface\",\"colorbar\":{\"outlinewidth\":0,\"ticks\":\"\"},\"colorscale\":[[0.0,\"#0d0887\"],[0.1111111111111111,\"#46039f\"],[0.2222222222222222,\"#7201a8\"],[0.3333333333333333,\"#9c179e\"],[0.4444444444444444,\"#bd3786\"],[0.5555555555555556,\"#d8576b\"],[0.6666666666666666,\"#ed7953\"],[0.7777777777777778,\"#fb9f3a\"],[0.8888888888888888,\"#fdca26\"],[1.0,\"#f0f921\"]]}],\"mesh3d\":[{\"type\":\"mesh3d\",\"colorbar\":{\"outlinewidth\":0,\"ticks\":\"\"}}],\"scatter\":[{\"fillpattern\":{\"fillmode\":\"overlay\",\"size\":10,\"solidity\":0.2},\"type\":\"scatter\"}],\"parcoords\":[{\"type\":\"parcoords\",\"line\":{\"colorbar\":{\"outlinewidth\":0,\"ticks\":\"\"}}}],\"scatterpolargl\":[{\"type\":\"scatterpolargl\",\"marker\":{\"colorbar\":{\"outlinewidth\":0,\"ticks\":\"\"}}}],\"bar\":[{\"error_x\":{\"color\":\"#2a3f5f\"},\"error_y\":{\"color\":\"#2a3f5f\"},\"marker\":{\"line\":{\"color\":\"#E5ECF6\",\"width\":0.5},\"pattern\":{\"fillmode\":\"overlay\",\"size\":10,\"solidity\":0.2}},\"type\":\"bar\"}],\"scattergeo\":[{\"type\":\"scattergeo\",\"marker\":{\"colorbar\":{\"outlinewidth\":0,\"ticks\":\"\"}}}],\"scatterpolar\":[{\"type\":\"scatterpolar\",\"marker\":{\"colorbar\":{\"outlinewidth\":0,\"ticks\":\"\"}}}],\"histogram\":[{\"marker\":{\"pattern\":{\"fillmode\":\"overlay\",\"size\":10,\"solidity\":0.2}},\"type\":\"histogram\"}],\"scattergl\":[{\"type\":\"scattergl\",\"marker\":{\"colorbar\":{\"outlinewidth\":0,\"ticks\":\"\"}}}],\"scatter3d\":[{\"type\":\"scatter3d\",\"line\":{\"colorbar\":{\"outlinewidth\":0,\"ticks\":\"\"}},\"marker\":{\"colorbar\":{\"outlinewidth\":0,\"ticks\":\"\"}}}],\"scattermapbox\":[{\"type\":\"scattermapbox\",\"marker\":{\"colorbar\":{\"outlinewidth\":0,\"ticks\":\"\"}}}],\"scatterternary\":[{\"type\":\"scatterternary\",\"marker\":{\"colorbar\":{\"outlinewidth\":0,\"ticks\":\"\"}}}],\"scattercarpet\":[{\"type\":\"scattercarpet\",\"marker\":{\"colorbar\":{\"outlinewidth\":0,\"ticks\":\"\"}}}],\"carpet\":[{\"aaxis\":{\"endlinecolor\":\"#2a3f5f\",\"gridcolor\":\"white\",\"linecolor\":\"white\",\"minorgridcolor\":\"white\",\"startlinecolor\":\"#2a3f5f\"},\"baxis\":{\"endlinecolor\":\"#2a3f5f\",\"gridcolor\":\"white\",\"linecolor\":\"white\",\"minorgridcolor\":\"white\",\"startlinecolor\":\"#2a3f5f\"},\"type\":\"carpet\"}],\"table\":[{\"cells\":{\"fill\":{\"color\":\"#EBF0F8\"},\"line\":{\"color\":\"white\"}},\"header\":{\"fill\":{\"color\":\"#C8D4E3\"},\"line\":{\"color\":\"white\"}},\"type\":\"table\"}],\"barpolar\":[{\"marker\":{\"line\":{\"color\":\"#E5ECF6\",\"width\":0.5},\"pattern\":{\"fillmode\":\"overlay\",\"size\":10,\"solidity\":0.2}},\"type\":\"barpolar\"}],\"pie\":[{\"automargin\":true,\"type\":\"pie\"}]},\"layout\":{\"autotypenumbers\":\"strict\",\"colorway\":[\"#636efa\",\"#EF553B\",\"#00cc96\",\"#ab63fa\",\"#FFA15A\",\"#19d3f3\",\"#FF6692\",\"#B6E880\",\"#FF97FF\",\"#FECB52\"],\"font\":{\"color\":\"#2a3f5f\"},\"hovermode\":\"closest\",\"hoverlabel\":{\"align\":\"left\"},\"paper_bgcolor\":\"white\",\"plot_bgcolor\":\"#E5ECF6\",\"polar\":{\"bgcolor\":\"#E5ECF6\",\"angularaxis\":{\"gridcolor\":\"white\",\"linecolor\":\"white\",\"ticks\":\"\"},\"radialaxis\":{\"gridcolor\":\"white\",\"linecolor\":\"white\",\"ticks\":\"\"}},\"ternary\":{\"bgcolor\":\"#E5ECF6\",\"aaxis\":{\"gridcolor\":\"white\",\"linecolor\":\"white\",\"ticks\":\"\"},\"baxis\":{\"gridcolor\":\"white\",\"linecolor\":\"white\",\"ticks\":\"\"},\"caxis\":{\"gridcolor\":\"white\",\"linecolor\":\"white\",\"ticks\":\"\"}},\"coloraxis\":{\"colorbar\":{\"outlinewidth\":0,\"ticks\":\"\"}},\"colorscale\":{\"sequential\":[[0.0,\"#0d0887\"],[0.1111111111111111,\"#46039f\"],[0.2222222222222222,\"#7201a8\"],[0.3333333333333333,\"#9c179e\"],[0.4444444444444444,\"#bd3786\"],[0.5555555555555556,\"#d8576b\"],[0.6666666666666666,\"#ed7953\"],[0.7777777777777778,\"#fb9f3a\"],[0.8888888888888888,\"#fdca26\"],[1.0,\"#f0f921\"]],\"sequentialminus\":[[0.0,\"#0d0887\"],[0.1111111111111111,\"#46039f\"],[0.2222222222222222,\"#7201a8\"],[0.3333333333333333,\"#9c179e\"],[0.4444444444444444,\"#bd3786\"],[0.5555555555555556,\"#d8576b\"],[0.6666666666666666,\"#ed7953\"],[0.7777777777777778,\"#fb9f3a\"],[0.8888888888888888,\"#fdca26\"],[1.0,\"#f0f921\"]],\"diverging\":[[0,\"#8e0152\"],[0.1,\"#c51b7d\"],[0.2,\"#de77ae\"],[0.3,\"#f1b6da\"],[0.4,\"#fde0ef\"],[0.5,\"#f7f7f7\"],[0.6,\"#e6f5d0\"],[0.7,\"#b8e186\"],[0.8,\"#7fbc41\"],[0.9,\"#4d9221\"],[1,\"#276419\"]]},\"xaxis\":{\"gridcolor\":\"white\",\"linecolor\":\"white\",\"ticks\":\"\",\"title\":{\"standoff\":15},\"zerolinecolor\":\"white\",\"automargin\":true,\"zerolinewidth\":2},\"yaxis\":{\"gridcolor\":\"white\",\"linecolor\":\"white\",\"ticks\":\"\",\"title\":{\"standoff\":15},\"zerolinecolor\":\"white\",\"automargin\":true,\"zerolinewidth\":2},\"scene\":{\"xaxis\":{\"backgroundcolor\":\"#E5ECF6\",\"gridcolor\":\"white\",\"linecolor\":\"white\",\"showbackground\":true,\"ticks\":\"\",\"zerolinecolor\":\"white\",\"gridwidth\":2},\"yaxis\":{\"backgroundcolor\":\"#E5ECF6\",\"gridcolor\":\"white\",\"linecolor\":\"white\",\"showbackground\":true,\"ticks\":\"\",\"zerolinecolor\":\"white\",\"gridwidth\":2},\"zaxis\":{\"backgroundcolor\":\"#E5ECF6\",\"gridcolor\":\"white\",\"linecolor\":\"white\",\"showbackground\":true,\"ticks\":\"\",\"zerolinecolor\":\"white\",\"gridwidth\":2}},\"shapedefaults\":{\"line\":{\"color\":\"#2a3f5f\"}},\"annotationdefaults\":{\"arrowcolor\":\"#2a3f5f\",\"arrowhead\":0,\"arrowwidth\":1},\"geo\":{\"bgcolor\":\"white\",\"landcolor\":\"#E5ECF6\",\"subunitcolor\":\"white\",\"showland\":true,\"showlakes\":true,\"lakecolor\":\"white\"},\"title\":{\"x\":0.05},\"mapbox\":{\"style\":\"light\"}}},\"xaxis\":{\"anchor\":\"y\",\"domain\":[0.0,0.45]},\"yaxis\":{\"anchor\":\"x\",\"domain\":[0.0,0.26666666666666666]},\"xaxis2\":{\"anchor\":\"y2\",\"domain\":[0.55,1.0]},\"yaxis2\":{\"anchor\":\"x2\",\"domain\":[0.0,0.26666666666666666]},\"xaxis3\":{\"anchor\":\"y3\",\"domain\":[0.0,0.45]},\"yaxis3\":{\"anchor\":\"x3\",\"domain\":[0.36666666666666664,0.6333333333333333]},\"xaxis4\":{\"anchor\":\"y4\",\"domain\":[0.55,1.0]},\"yaxis4\":{\"anchor\":\"x4\",\"domain\":[0.36666666666666664,0.6333333333333333]},\"xaxis5\":{\"anchor\":\"y5\",\"domain\":[0.0,0.45]},\"yaxis5\":{\"anchor\":\"x5\",\"domain\":[0.7333333333333333,1.0]},\"xaxis6\":{\"anchor\":\"y6\",\"domain\":[0.55,1.0]},\"yaxis6\":{\"anchor\":\"x6\",\"domain\":[0.7333333333333333,1.0]}},                        {\"responsive\": true}                    ).then(function(){\n",
       "                            \n",
       "var gd = document.getElementById('b9b7952b-9175-4461-b591-8a466b5402ca');\n",
       "var x = new MutationObserver(function (mutations, observer) {{\n",
       "        var display = window.getComputedStyle(gd).display;\n",
       "        if (!display || display === 'none') {{\n",
       "            console.log([gd, 'removed!']);\n",
       "            Plotly.purge(gd);\n",
       "            observer.disconnect();\n",
       "        }}\n",
       "}});\n",
       "\n",
       "// Listen for the removal of the full notebook cells\n",
       "var notebookContainer = gd.closest('#notebook-container');\n",
       "if (notebookContainer) {{\n",
       "    x.observe(notebookContainer, {childList: true});\n",
       "}}\n",
       "\n",
       "// Listen for the clearing of the current output cell\n",
       "var outputEl = gd.closest('.output');\n",
       "if (outputEl) {{\n",
       "    x.observe(outputEl, {childList: true});\n",
       "}}\n",
       "\n",
       "                        })                };                            </script>        </div>\n",
       "</body>\n",
       "</html>"
      ]
     },
     "metadata": {},
     "output_type": "display_data"
    }
   ],
   "source": [
    "columns = [\"MolLogP\", \"Acceptor_Count\", \"Donor_Count\", \"NumRotatableBonds\", \\\n",
    "           \"RingCount\", \"MolWt\"]\n",
    "\n",
    "fig = make_subplots(rows=3, cols=2, start_cell=\"bottom-left\")\n",
    "\n",
    "nlines = 3\n",
    "ncolumns = 2\n",
    "\n",
    "for i in range(nlines):\n",
    "    for j in range(ncolumns):\n",
    "        fig.add_trace(go.Histogram(x=df_data[columns[i+j]], name=columns[i+j]), row=i+1, col=j+1)\n",
    "\n",
    "fig.show(renderer=\"colab\")"
   ]
  },
  {
   "cell_type": "code",
   "execution_count": 10,
   "metadata": {
    "colab": {
     "base_uri": "https://localhost:8080/"
    },
    "id": "k8L1upGIcu2T",
    "outputId": "91bd5137-e1d7-4143-a02f-defc2e25ab9f"
   },
   "outputs": [
    {
     "name": "stdout",
     "output_type": "stream",
     "text": [
      "FC(F)(F)c1cccc(NC(=O)Nc2ncccc2OCc3ccccc3)c1\n"
     ]
    },
    {
     "data": {
      "image/png": "[encoded data removed]",
      "text/plain": [
       "<rdkit.Chem.rdchem.Mol at 0x7f1d5b2bfdc0>"
      ]
     },
     "execution_count": 10,
     "metadata": {},
     "output_type": "execute_result"
    }
   ],
   "source": [
    "print(df_data.iloc[0]['SMILES'])\n",
    "m = Chem.MolFromSmiles(df_data.iloc[0]['SMILES'])\n",
    "m"
   ]
  },
  {
   "cell_type": "code",
   "execution_count": 11,
   "metadata": {
    "id": "UUUEvN7rc0_5"
   },
   "outputs": [],
   "source": [
    "THRESHOLD_POTENCY = 6"
   ]
  },
  {
   "cell_type": "code",
   "execution_count": null,
   "metadata": {},
   "outputs": [],
   "source": []
  }
 ],
 "metadata": {
  "colab": {
   "authorship_tag": "ABX9TyOH/idxCI1yAxG05pnpxM1M",
   "include_colab_link": true,
   "provenance": []
  },
  "kernelspec": {
   "display_name": "Python 3 (ipykernel)",
   "language": "python",
   "name": "python3"
  },
  "language_info": {
   "codemirror_mode": {
    "name": "ipython",
    "version": 3
   },
   "file_extension": ".py",
   "mimetype": "text/x-python",
   "name": "python",
   "nbconvert_exporter": "python",
   "pygments_lexer": "ipython3",
   "version": "3.8.13"
  }
 },
 "nbformat": 4,
 "nbformat_minor": 1
}
